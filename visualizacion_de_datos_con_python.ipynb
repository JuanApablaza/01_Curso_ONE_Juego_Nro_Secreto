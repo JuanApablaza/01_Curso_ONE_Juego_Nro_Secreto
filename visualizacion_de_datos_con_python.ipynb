{
  "nbformat": 4,
  "nbformat_minor": 0,
  "metadata": {
    "colab": {
      "provenance": [],
      "include_colab_link": true
    },
    "kernelspec": {
      "name": "python3",
      "display_name": "Python 3"
    },
    "language_info": {
      "name": "python"
    }
  },
  "cells": [
    {
      "cell_type": "markdown",
      "metadata": {
        "id": "view-in-github",
        "colab_type": "text"
      },
      "source": [
        "<a href=\"https://colab.research.google.com/github/JuanApablaza/01_Curso_ONE_Juego_Nro_Secreto/blob/main/visualizacion_de_datos_con_python.ipynb\" target=\"_parent\"><img src=\"https://colab.research.google.com/assets/colab-badge.svg\" alt=\"Open In Colab\"/></a>"
      ]
    },
    {
      "cell_type": "markdown",
      "source": [
        "# Visualización de datos con Python: Matplotlib, Seaborn y Plotly"
      ],
      "metadata": {
        "id": "gKkGm80sQxVA"
      }
    },
    {
      "cell_type": "code",
      "source": [],
      "metadata": {
        "id": "IYtbtwDZeTBj"
      },
      "execution_count": null,
      "outputs": []
    },
    {
      "cell_type": "markdown",
      "source": [
        "C:\\Aula\\VisualizagraficosPython  inmigrantes_canada.csv"
      ],
      "metadata": {
        "id": "107DdJzdbMCx"
      }
    },
    {
      "cell_type": "code",
      "source": [],
      "metadata": {
        "id": "ZjccO-UqbQeQ"
      },
      "execution_count": null,
      "outputs": []
    },
    {
      "cell_type": "markdown",
      "source": [
        "ayza es una estudiante de Ciencia de Datos en busca de nuevos conocimientos y experiencias. En su proyecto más reciente, se encontró con un desafío: ¿cómo crear gráficos en Python que realmente transmitan la información necesaria? Con la mente inquieta y sedienta por respuestas, está trabajando en un proyecto que requiere la visualización de datos, pero no tiene idea de cómo puede comenzar. Al sumergirse en sus estudios, Mayza se encontró frecuentemente con el término plano cartesiano.\n",
        "\n",
        "Seguramente ya has oído hablar sobre este término. Puede que haya sido en alguna clase de geografía, por ejemplo. Pero, ¿qué tiene que ver esto con la visualización de datos?\n",
        "\n",
        "Imagina un mapa común, de esos que muestran calles, puntos turísticos y otras informaciones útiles para quien está viajando. Su objetivo principal es proporcionar orientaciones y referencias de forma clara y fácil de entender, al punto de ayudar al viajero a encontrar el camino correcto y tomar las mejores decisiones durante su viaje. El plano cartesiano sigue la misma idea, pero en lugar de calles y edificios, muestra información en forma de gráficos. Con él, podemos visualizar información compleja de manera intuitiva y eficiente, facilitando la toma de decisiones y la resolución de problemas gracias a los ejes que se cruzan en un punto central.\n",
        "\n",
        "Con el uso del plano cartesiano, constituido por el eje X y el eje Y, es posible crear un sistema de coordenadas bidimensional que facilita la localización y análisis de datos. Estos ejes también son conocidos por los siguientes nombres:\n",
        "\n",
        "eje x: eje de las abscisas.\n",
        "eje y: eje de las ordenadas.\n",
        "Los ejes son componentes esenciales debido a sus combinaciones, que posibilitan una mayor precisión en la identificación de puntos en un espacio bidimensional. En la figura abajo, tenemos la representación de un plano cartesiano conteniendo los ejes X y Y para ejemplificar. Con él podemos notar algunas características importantes:\n",
        "\n",
        "El eje X es horizontal.\n",
        "El eje Y es vertical.\n",
        "En el centro tenemos el origen, el valor 0 (cero).\n",
        "Hacia la derecha y hacia arriba tenemos valores positivos.\n",
        "Hacia la izquierda y hacia abajo tenemos valores negativos.\n",
        "1.png\n",
        "\n",
        "Como es posible constatar a través de estas representaciones, los ejes nos permiten especificar la ubicación exacta de un punto en un espacio bidimensional, de modo que los valores de X y Y son llamados coordenadas porque describen la ubicación del punto en relación al origen. En la figura abajo, tenemos un plano cartesiano conteniendo puntos de algunas coordenadas: (2,5), (1,2), (0,-1), (-1,-4) y (-2,-7). Considera la representación y observa los puntos disponibles. Así puedes visualizar mejor la relación entre ellos y entender patrones y tendencias en los datos.\n",
        "\n",
        "2.png\n",
        "\n",
        "Cuando creamos un gráfico, las coordenadas de los puntos son utilizadas para definir la posición de cada punto en el gráfico. Y una curiosidad interesante: el plano cartesiano y el eje de coordenadas son ampliamente usados en varios campos, incluyendo Matemáticas, Física, Ingeniería, Ciencia de Datos y muchos otros, siendo una herramienta fundamental para la representación de datos y para la visualización de resultados en diversos contextos.\n",
        "\n",
        "¿Recuerdas la saga de Mayza? Después de explorar las posibilidades en sus estudios, Mayza comprendió el concepto de plano cartesiano y cómo esto puede ser útil en su proyecto de visualización de datos. Ahora necesita algunos insights para crear un gráfico y supo que tú puedes ayudarla en eso.\n",
        "\n",
        "¿Entonces, vamos a crear nuestro primer gráfico ahora?"
      ],
      "metadata": {
        "id": "gKSMUvDbbVg2"
      }
    },
    {
      "cell_type": "code",
      "source": [
        "import matplotlib.pyplot as plt\n",
        "import pandas as pd"
      ],
      "metadata": {
        "id": "wAaBXGKgbQhg"
      },
      "execution_count": null,
      "outputs": []
    },
    {
      "cell_type": "code",
      "source": [
        "from google.colab import drive\n",
        "drive.mount('/content/drive')"
      ],
      "metadata": {
        "id": "NnpJnJ2Pb2oO"
      },
      "execution_count": null,
      "outputs": []
    },
    {
      "cell_type": "code",
      "source": [],
      "metadata": {
        "id": "dTyxSbKfbQkC"
      },
      "execution_count": null,
      "outputs": []
    }
  ]
}