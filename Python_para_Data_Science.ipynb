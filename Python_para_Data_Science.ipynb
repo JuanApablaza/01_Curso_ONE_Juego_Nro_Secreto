{
  "nbformat": 4,
  "nbformat_minor": 0,
  "metadata": {
    "colab": {
      "provenance": [],
      "include_colab_link": true
    },
    "kernelspec": {
      "name": "python3",
      "display_name": "Python 3"
    },
    "language_info": {
      "name": "python"
    }
  },
  "cells": [
    {
      "cell_type": "markdown",
      "metadata": {
        "id": "view-in-github",
        "colab_type": "text"
      },
      "source": [
        "<a href=\"https://colab.research.google.com/github/JuanApablaza/01_Curso_ONE_Juego_Nro_Secreto/blob/main/Python_para_Data_Science.ipynb\" target=\"_parent\"><img src=\"https://colab.research.google.com/assets/colab-badge.svg\" alt=\"Open In Colab\"/></a>"
      ]
    },
    {
      "cell_type": "markdown",
      "source": [
        "# <font color=green> **PYTHON PARA DATA SCIENCE**\n",
        "---"
      ],
      "metadata": {
        "id": "AGc2Cf4cBwd7"
      }
    },
    {
      "cell_type": "markdown",
      "source": [
        "## <font color=green> 1. BIBLIOTECAS\n",
        "---"
      ],
      "metadata": {
        "id": "fH2br9y9CYZ8"
      }
    },
    {
      "cell_type": "markdown",
      "source": [
        "## 1.1 Instalación e importación de bibliotecas\n",
        "\n",
        "En el lenguaje Python se utiliza bastante el concepto de bibliotecas como un conjunto de módulos y funciones útiles para el usuario. Estas favorecen la reducción del uso de códigos en el proyecto, manteniendo únicamente los recursos necesarios para la tarea que deseamos realizar."
      ],
      "metadata": {
        "id": "jjEKgfiuFzHz"
      }
    },
    {
      "cell_type": "markdown",
      "source": [
        "### Instalando una biblioteca"
      ],
      "metadata": {
        "id": "JjpazCgqDRfZ"
      }
    },
    {
      "cell_type": "markdown",
      "source": [
        "Para instalar o actualizar una biblioteca en Python, podemos acudir a `pip` que es un gestor de bibliotecas en Python."
      ],
      "metadata": {
        "id": "_qnuIo7oIQYx"
      }
    },
    {
      "cell_type": "markdown",
      "source": [
        "Existe también PYPI que es un repositorio de bibliotecas Python que contiene las bibliotecas más utilizadas por la comunidad junto a su respectiva documentación.\n",
        "\n",
        "- PYPI ([https://pypi.org/](https://pypi.org/))"
      ],
      "metadata": {
        "id": "IHTmQnlXInD1"
      }
    },
    {
      "cell_type": "code",
      "source": [
        "!pip install matplotlib"
      ],
      "metadata": {
        "id": "Rv5sIo7NM5VS",
        "colab": {
          "base_uri": "https://localhost:8080/"
        },
        "outputId": "81649b9a-0a0a-4f13-915d-f7ebbc61df68"
      },
      "execution_count": 6,
      "outputs": [
        {
          "output_type": "stream",
          "name": "stdout",
          "text": [
            "Requirement already satisfied: matplotlib in /usr/local/lib/python3.11/dist-packages (3.10.0)\n",
            "Requirement already satisfied: contourpy>=1.0.1 in /usr/local/lib/python3.11/dist-packages (from matplotlib) (1.3.1)\n",
            "Requirement already satisfied: cycler>=0.10 in /usr/local/lib/python3.11/dist-packages (from matplotlib) (0.12.1)\n",
            "Requirement already satisfied: fonttools>=4.22.0 in /usr/local/lib/python3.11/dist-packages (from matplotlib) (4.57.0)\n",
            "Requirement already satisfied: kiwisolver>=1.3.1 in /usr/local/lib/python3.11/dist-packages (from matplotlib) (1.4.8)\n",
            "Requirement already satisfied: numpy>=1.23 in /usr/local/lib/python3.11/dist-packages (from matplotlib) (2.0.2)\n",
            "Requirement already satisfied: packaging>=20.0 in /usr/local/lib/python3.11/dist-packages (from matplotlib) (24.2)\n",
            "Requirement already satisfied: pillow>=8 in /usr/local/lib/python3.11/dist-packages (from matplotlib) (11.1.0)\n",
            "Requirement already satisfied: pyparsing>=2.3.1 in /usr/local/lib/python3.11/dist-packages (from matplotlib) (3.2.3)\n",
            "Requirement already satisfied: python-dateutil>=2.7 in /usr/local/lib/python3.11/dist-packages (from matplotlib) (2.8.2)\n",
            "Requirement already satisfied: six>=1.5 in /usr/local/lib/python3.11/dist-packages (from python-dateutil>=2.7->matplotlib) (1.17.0)\n"
          ]
        }
      ]
    },
    {
      "cell_type": "code",
      "source": [
        "import matplotlib"
      ],
      "metadata": {
        "id": "w-MDv_5470a1"
      },
      "execution_count": 4,
      "outputs": []
    },
    {
      "cell_type": "code",
      "source": [
        "matplotlib.__version__"
      ],
      "metadata": {
        "id": "REYsDRqHM6hN",
        "colab": {
          "base_uri": "https://localhost:8080/",
          "height": 35
        },
        "outputId": "e8e8bbfd-4401-4ed3-911d-e174e169f1d0"
      },
      "execution_count": 5,
      "outputs": [
        {
          "output_type": "execute_result",
          "data": {
            "text/plain": [
              "'3.10.0'"
            ],
            "application/vnd.google.colaboratory.intrinsic+json": {
              "type": "string"
            }
          },
          "metadata": {},
          "execution_count": 5
        }
      ]
    },
    {
      "cell_type": "markdown",
      "source": [
        "### Importando una biblioteca"
      ],
      "metadata": {
        "id": "A76TbnDbDehe"
      }
    },
    {
      "cell_type": "code",
      "source": [
        "!pip install matplotlib==3.8.1"
      ],
      "metadata": {
        "id": "_xUxLlZFM728",
        "colab": {
          "base_uri": "https://localhost:8080/",
          "height": 654
        },
        "outputId": "2afef697-a266-441b-ed15-09fdf0032424"
      },
      "execution_count": 7,
      "outputs": [
        {
          "output_type": "stream",
          "name": "stdout",
          "text": [
            "Collecting matplotlib==3.8.1\n",
            "  Downloading matplotlib-3.8.1-cp311-cp311-manylinux_2_17_x86_64.manylinux2014_x86_64.whl.metadata (5.8 kB)\n",
            "Requirement already satisfied: contourpy>=1.0.1 in /usr/local/lib/python3.11/dist-packages (from matplotlib==3.8.1) (1.3.1)\n",
            "Requirement already satisfied: cycler>=0.10 in /usr/local/lib/python3.11/dist-packages (from matplotlib==3.8.1) (0.12.1)\n",
            "Requirement already satisfied: fonttools>=4.22.0 in /usr/local/lib/python3.11/dist-packages (from matplotlib==3.8.1) (4.57.0)\n",
            "Requirement already satisfied: kiwisolver>=1.3.1 in /usr/local/lib/python3.11/dist-packages (from matplotlib==3.8.1) (1.4.8)\n",
            "Collecting numpy<2,>=1.21 (from matplotlib==3.8.1)\n",
            "  Downloading numpy-1.26.4-cp311-cp311-manylinux_2_17_x86_64.manylinux2014_x86_64.whl.metadata (61 kB)\n",
            "\u001b[2K     \u001b[90m━━━━━━━━━━━━━━━━━━━━━━━━━━━━━━━━━━━━━━━━\u001b[0m \u001b[32m61.0/61.0 kB\u001b[0m \u001b[31m4.4 MB/s\u001b[0m eta \u001b[36m0:00:00\u001b[0m\n",
            "\u001b[?25hRequirement already satisfied: packaging>=20.0 in /usr/local/lib/python3.11/dist-packages (from matplotlib==3.8.1) (24.2)\n",
            "Requirement already satisfied: pillow>=8 in /usr/local/lib/python3.11/dist-packages (from matplotlib==3.8.1) (11.1.0)\n",
            "Requirement already satisfied: pyparsing>=2.3.1 in /usr/local/lib/python3.11/dist-packages (from matplotlib==3.8.1) (3.2.3)\n",
            "Requirement already satisfied: python-dateutil>=2.7 in /usr/local/lib/python3.11/dist-packages (from matplotlib==3.8.1) (2.8.2)\n",
            "Requirement already satisfied: six>=1.5 in /usr/local/lib/python3.11/dist-packages (from python-dateutil>=2.7->matplotlib==3.8.1) (1.17.0)\n",
            "Downloading matplotlib-3.8.1-cp311-cp311-manylinux_2_17_x86_64.manylinux2014_x86_64.whl (11.6 MB)\n",
            "\u001b[2K   \u001b[90m━━━━━━━━━━━━━━━━━━━━━━━━━━━━━━━━━━━━━━━━\u001b[0m \u001b[32m11.6/11.6 MB\u001b[0m \u001b[31m88.7 MB/s\u001b[0m eta \u001b[36m0:00:00\u001b[0m\n",
            "\u001b[?25hDownloading numpy-1.26.4-cp311-cp311-manylinux_2_17_x86_64.manylinux2014_x86_64.whl (18.3 MB)\n",
            "\u001b[2K   \u001b[90m━━━━━━━━━━━━━━━━━━━━━━━━━━━━━━━━━━━━━━━━\u001b[0m \u001b[32m18.3/18.3 MB\u001b[0m \u001b[31m73.0 MB/s\u001b[0m eta \u001b[36m0:00:00\u001b[0m\n",
            "\u001b[?25hInstalling collected packages: numpy, matplotlib\n",
            "  Attempting uninstall: numpy\n",
            "    Found existing installation: numpy 2.0.2\n",
            "    Uninstalling numpy-2.0.2:\n",
            "      Successfully uninstalled numpy-2.0.2\n",
            "  Attempting uninstall: matplotlib\n",
            "    Found existing installation: matplotlib 3.10.0\n",
            "    Uninstalling matplotlib-3.10.0:\n",
            "      Successfully uninstalled matplotlib-3.10.0\n",
            "\u001b[31mERROR: pip's dependency resolver does not currently take into account all the packages that are installed. This behaviour is the source of the following dependency conflicts.\n",
            "thinc 8.3.6 requires numpy<3.0.0,>=2.0.0, but you have numpy 1.26.4 which is incompatible.\u001b[0m\u001b[31m\n",
            "\u001b[0mSuccessfully installed matplotlib-3.8.1 numpy-1.26.4\n"
          ]
        },
        {
          "output_type": "display_data",
          "data": {
            "application/vnd.colab-display-data+json": {
              "pip_warning": {
                "packages": [
                  "matplotlib",
                  "mpl_toolkits"
                ]
              },
              "id": "6a7884c99b2d448585a856a1077c3b19"
            }
          },
          "metadata": {}
        }
      ]
    },
    {
      "cell_type": "code",
      "source": [
        "import matplotlib.pyplot as plt"
      ],
      "metadata": {
        "id": "oNrtvYZC8yLg"
      },
      "execution_count": 1,
      "outputs": []
    },
    {
      "cell_type": "code",
      "source": [
        "plt"
      ],
      "metadata": {
        "id": "xy035zQzM75b",
        "colab": {
          "base_uri": "https://localhost:8080/"
        },
        "outputId": "66b951d2-ce4e-422b-a474-60d168d6a839"
      },
      "execution_count": 8,
      "outputs": [
        {
          "output_type": "execute_result",
          "data": {
            "text/plain": [
              "<module 'matplotlib.pyplot' from '/usr/local/lib/python3.11/dist-packages/matplotlib/pyplot.py'>"
            ]
          },
          "metadata": {},
          "execution_count": 8
        }
      ]
    },
    {
      "cell_type": "markdown",
      "source": [
        "## 1.2 Utilizando módulos/bibliotecas\n",
        "\n",
        "- Documentación de Python (https://docs.python.org/es/3/)"
      ],
      "metadata": {
        "id": "oMxkV9-6GXwH"
      }
    },
    {
      "cell_type": "markdown",
      "source": [
        "#### Ejemplo 1: Vamos a probar la biblioteca Matplotlib para un ejemplo sobre el cálculo de los promedios de notas de los estudiantes de una clase.\n",
        "\n",
        "(https://matplotlib.org/stable/tutorials/introductory/pyplot.html)"
      ],
      "metadata": {
        "id": "W1MHaXB2Q7tT"
      }
    },
    {
      "cell_type": "code",
      "source": [
        "# Imprimir todos los paquetes instalados en el entorno y sus versiones\n",
        "!pip list\n"
      ],
      "metadata": {
        "id": "hme-WlDYM-Od",
        "colab": {
          "base_uri": "https://localhost:8080/"
        },
        "collapsed": true,
        "outputId": "f66cd53f-8208-46c6-d182-173e08f805c5"
      },
      "execution_count": 1,
      "outputs": [
        {
          "output_type": "stream",
          "name": "stdout",
          "text": [
            "Package                               Version\n",
            "------------------------------------- ------------------\n",
            "absl-py                               1.4.0\n",
            "accelerate                            1.5.2\n",
            "aiohappyeyeballs                      2.6.1\n",
            "aiohttp                               3.11.15\n",
            "aiosignal                             1.3.2\n",
            "alabaster                             1.0.0\n",
            "albucore                              0.0.23\n",
            "albumentations                        2.0.5\n",
            "ale-py                                0.10.2\n",
            "altair                                5.5.0\n",
            "annotated-types                       0.7.0\n",
            "anyio                                 4.9.0\n",
            "argon2-cffi                           23.1.0\n",
            "argon2-cffi-bindings                  21.2.0\n",
            "array_record                          0.7.1\n",
            "arviz                                 0.21.0\n",
            "astropy                               7.0.1\n",
            "astropy-iers-data                     0.2025.4.7.0.35.30\n",
            "astunparse                            1.6.3\n",
            "atpublic                              5.1\n",
            "attrs                                 25.3.0\n",
            "audioread                             3.0.1\n",
            "autograd                              1.7.0\n",
            "babel                                 2.17.0\n",
            "backcall                              0.2.0\n",
            "backports.tarfile                     1.2.0\n",
            "beautifulsoup4                        4.13.3\n",
            "betterproto                           2.0.0b6\n",
            "bigframes                             1.42.0\n",
            "bigquery-magics                       0.9.0\n",
            "bleach                                6.2.0\n",
            "blinker                               1.9.0\n",
            "blis                                  1.3.0\n",
            "blosc2                                3.3.0\n",
            "bokeh                                 3.6.3\n",
            "Bottleneck                            1.4.2\n",
            "bqplot                                0.12.44\n",
            "branca                                0.8.1\n",
            "CacheControl                          0.14.2\n",
            "cachetools                            5.5.2\n",
            "catalogue                             2.0.10\n",
            "certifi                               2025.1.31\n",
            "cffi                                  1.17.1\n",
            "chardet                               5.2.0\n",
            "charset-normalizer                    3.4.1\n",
            "chex                                  0.1.89\n",
            "clarabel                              0.10.0\n",
            "click                                 8.1.8\n",
            "cloudpathlib                          0.21.0\n",
            "cloudpickle                           3.1.1\n",
            "cmake                                 3.31.6\n",
            "cmdstanpy                             1.2.5\n",
            "colorcet                              3.1.0\n",
            "colorlover                            0.3.0\n",
            "colour                                0.1.5\n",
            "community                             1.0.0b1\n",
            "confection                            0.1.5\n",
            "cons                                  0.4.6\n",
            "contourpy                             1.3.1\n",
            "cramjam                               2.9.1\n",
            "cryptography                          43.0.3\n",
            "cuda-python                           12.6.2.post1\n",
            "cudf-cu12                             25.2.1\n",
            "cudf-polars-cu12                      25.2.2\n",
            "cufflinks                             0.17.3\n",
            "cuml-cu12                             25.2.1\n",
            "cupy-cuda12x                          13.3.0\n",
            "cuvs-cu12                             25.2.1\n",
            "cvxopt                                1.3.2\n",
            "cvxpy                                 1.6.4\n",
            "cycler                                0.12.1\n",
            "cyipopt                               1.5.0\n",
            "cymem                                 2.0.11\n",
            "Cython                                3.0.12\n",
            "dask                                  2024.12.1\n",
            "dask-cuda                             25.2.0\n",
            "dask-cudf-cu12                        25.2.2\n",
            "dask-expr                             1.1.21\n",
            "datascience                           0.17.6\n",
            "db-dtypes                             1.4.2\n",
            "dbus-python                           1.2.18\n",
            "debugpy                               1.8.0\n",
            "decorator                             4.4.2\n",
            "defusedxml                            0.7.1\n",
            "Deprecated                            1.2.18\n",
            "diffusers                             0.32.2\n",
            "distributed                           2024.12.1\n",
            "distributed-ucxx-cu12                 0.42.0\n",
            "distro                                1.9.0\n",
            "dlib                                  19.24.6\n",
            "dm-tree                               0.1.9\n",
            "docker-pycreds                        0.4.0\n",
            "docstring_parser                      0.16\n",
            "docutils                              0.21.2\n",
            "dopamine_rl                           4.1.2\n",
            "duckdb                                1.2.2\n",
            "earthengine-api                       1.5.9\n",
            "easydict                              1.13\n",
            "editdistance                          0.8.1\n",
            "eerepr                                0.1.1\n",
            "einops                                0.8.1\n",
            "en_core_web_sm                        3.8.0\n",
            "entrypoints                           0.4\n",
            "et_xmlfile                            2.0.0\n",
            "etils                                 1.12.2\n",
            "etuples                               0.3.9\n",
            "Farama-Notifications                  0.0.4\n",
            "fastai                                2.7.19\n",
            "fastcore                              1.7.29\n",
            "fastdownload                          0.0.7\n",
            "fastjsonschema                        2.21.1\n",
            "fastprogress                          1.0.3\n",
            "fastrlock                             0.8.3\n",
            "filelock                              3.18.0\n",
            "firebase-admin                        6.7.0\n",
            "Flask                                 3.1.0\n",
            "flatbuffers                           25.2.10\n",
            "flax                                  0.10.5\n",
            "folium                                0.19.5\n",
            "fonttools                             4.57.0\n",
            "frozendict                            2.4.6\n",
            "frozenlist                            1.5.0\n",
            "fsspec                                2025.3.2\n",
            "future                                1.0.0\n",
            "gast                                  0.6.0\n",
            "gcsfs                                 2025.3.2\n",
            "GDAL                                  3.6.4\n",
            "gdown                                 5.2.0\n",
            "geemap                                0.35.3\n",
            "geocoder                              1.38.1\n",
            "geographiclib                         2.0\n",
            "geopandas                             1.0.1\n",
            "geopy                                 2.4.1\n",
            "gin-config                            0.5.0\n",
            "gitdb                                 4.0.12\n",
            "GitPython                             3.1.44\n",
            "glob2                                 0.7\n",
            "google                                2.0.3\n",
            "google-ai-generativelanguage          0.6.15\n",
            "google-api-core                       2.24.2\n",
            "google-api-python-client              2.164.0\n",
            "google-auth                           2.38.0\n",
            "google-auth-httplib2                  0.2.0\n",
            "google-auth-oauthlib                  1.2.1\n",
            "google-cloud-aiplatform               1.88.0\n",
            "google-cloud-bigquery                 3.31.0\n",
            "google-cloud-bigquery-connection      1.18.2\n",
            "google-cloud-bigquery-storage         2.30.0\n",
            "google-cloud-bigtable                 2.30.0\n",
            "google-cloud-core                     2.4.3\n",
            "google-cloud-dataproc                 5.18.1\n",
            "google-cloud-datastore                2.20.2\n",
            "google-cloud-firestore                2.20.1\n",
            "google-cloud-functions                1.20.2\n",
            "google-cloud-iam                      2.18.3\n",
            "google-cloud-language                 2.17.1\n",
            "google-cloud-pubsub                   2.29.0\n",
            "google-cloud-resource-manager         1.14.2\n",
            "google-cloud-spanner                  3.53.0\n",
            "google-cloud-storage                  2.19.0\n",
            "google-cloud-translate                3.20.2\n",
            "google-colab                          1.0.0\n",
            "google-crc32c                         1.7.1\n",
            "google-genai                          1.10.0\n",
            "google-generativeai                   0.8.4\n",
            "google-pasta                          0.2.0\n",
            "google-resumable-media                2.7.2\n",
            "google-spark-connect                  0.5.2\n",
            "googleapis-common-protos              1.69.2\n",
            "googledrivedownloader                 1.1.0\n",
            "graphviz                              0.20.3\n",
            "greenlet                              3.1.1\n",
            "grpc-google-iam-v1                    0.14.2\n",
            "grpc-interceptor                      0.15.4\n",
            "grpcio                                1.71.0\n",
            "grpcio-status                         1.71.0\n",
            "grpclib                               0.4.7\n",
            "gspread                               6.2.0\n",
            "gspread-dataframe                     4.0.0\n",
            "gym                                   0.25.2\n",
            "gym-notices                           0.0.8\n",
            "gymnasium                             1.1.1\n",
            "h11                                   0.14.0\n",
            "h2                                    4.2.0\n",
            "h5netcdf                              1.6.1\n",
            "h5py                                  3.13.0\n",
            "hdbscan                               0.8.40\n",
            "highspy                               1.9.0\n",
            "holidays                              0.70\n",
            "holoviews                             1.20.2\n",
            "hpack                                 4.1.0\n",
            "html5lib                              1.1\n",
            "httpcore                              1.0.7\n",
            "httpimport                            1.4.1\n",
            "httplib2                              0.22.0\n",
            "httpx                                 0.28.1\n",
            "huggingface-hub                       0.30.2\n",
            "humanize                              4.12.2\n",
            "hyperframe                            6.1.0\n",
            "hyperopt                              0.2.7\n",
            "ibis-framework                        9.5.0\n",
            "idna                                  3.10\n",
            "imageio                               2.37.0\n",
            "imageio-ffmpeg                        0.6.0\n",
            "imagesize                             1.4.1\n",
            "imbalanced-learn                      0.13.0\n",
            "immutabledict                         4.2.1\n",
            "importlib_metadata                    8.6.1\n",
            "importlib_resources                   6.5.2\n",
            "imutils                               0.5.4\n",
            "inflect                               7.5.0\n",
            "iniconfig                             2.1.0\n",
            "intel-cmplr-lib-ur                    2025.1.0\n",
            "intel-openmp                          2025.1.0\n",
            "ipyevents                             2.0.2\n",
            "ipyfilechooser                        0.6.0\n",
            "ipykernel                             6.17.1\n",
            "ipyleaflet                            0.19.2\n",
            "ipyparallel                           8.8.0\n",
            "ipython                               7.34.0\n",
            "ipython-genutils                      0.2.0\n",
            "ipython-sql                           0.5.0\n",
            "ipytree                               0.2.2\n",
            "ipywidgets                            7.7.1\n",
            "itsdangerous                          2.2.0\n",
            "jaraco.classes                        3.4.0\n",
            "jaraco.context                        6.0.1\n",
            "jaraco.functools                      4.1.0\n",
            "jax                                   0.5.2\n",
            "jax-cuda12-pjrt                       0.5.1\n",
            "jax-cuda12-plugin                     0.5.1\n",
            "jaxlib                                0.5.1\n",
            "jeepney                               0.9.0\n",
            "jellyfish                             1.1.0\n",
            "jieba                                 0.42.1\n",
            "Jinja2                                3.1.6\n",
            "jiter                                 0.9.0\n",
            "joblib                                1.4.2\n",
            "jsonpatch                             1.33\n",
            "jsonpickle                            4.0.5\n",
            "jsonpointer                           3.0.0\n",
            "jsonschema                            4.23.0\n",
            "jsonschema-specifications             2024.10.1\n",
            "jupyter-client                        6.1.12\n",
            "jupyter-console                       6.1.0\n",
            "jupyter_core                          5.7.2\n",
            "jupyter-leaflet                       0.19.2\n",
            "jupyter-server                        1.16.0\n",
            "jupyterlab_pygments                   0.3.0\n",
            "jupyterlab_widgets                    3.0.13\n",
            "kaggle                                1.7.4.2\n",
            "kagglehub                             0.3.11\n",
            "keras                                 3.8.0\n",
            "keras-hub                             0.18.1\n",
            "keras-nlp                             0.18.1\n",
            "keyring                               25.6.0\n",
            "keyrings.google-artifactregistry-auth 1.1.2\n",
            "kiwisolver                            1.4.8\n",
            "langchain                             0.3.23\n",
            "langchain-core                        0.3.51\n",
            "langchain-text-splitters              0.3.8\n",
            "langcodes                             3.5.0\n",
            "langsmith                             0.3.28\n",
            "language_data                         1.3.0\n",
            "launchpadlib                          1.10.16\n",
            "lazr.restfulclient                    0.14.4\n",
            "lazr.uri                              1.0.6\n",
            "lazy_loader                           0.4\n",
            "libclang                              18.1.1\n",
            "libcudf-cu12                          25.2.1\n",
            "libcugraph-cu12                       25.2.0\n",
            "libcuml-cu12                          25.2.1\n",
            "libcuvs-cu12                          25.2.1\n",
            "libkvikio-cu12                        25.2.1\n",
            "libraft-cu12                          25.2.0\n",
            "librosa                               0.11.0\n",
            "libucx-cu12                           1.18.0\n",
            "libucxx-cu12                          0.42.0\n",
            "lightgbm                              4.5.0\n",
            "linkify-it-py                         2.0.3\n",
            "llvmlite                              0.43.0\n",
            "locket                                1.0.0\n",
            "logical-unification                   0.4.6\n",
            "lxml                                  5.3.2\n",
            "Mako                                  1.1.3\n",
            "marisa-trie                           1.2.1\n",
            "Markdown                              3.7\n",
            "markdown-it-py                        3.0.0\n",
            "MarkupSafe                            3.0.2\n",
            "matplotlib                            3.10.0\n",
            "matplotlib-inline                     0.1.7\n",
            "matplotlib-venn                       1.1.2\n",
            "mdit-py-plugins                       0.4.2\n",
            "mdurl                                 0.1.2\n",
            "miniKanren                            1.0.3\n",
            "missingno                             0.5.2\n",
            "mistune                               3.1.3\n",
            "mizani                                0.13.2\n",
            "mkl                                   2025.0.1\n",
            "ml-dtypes                             0.4.1\n",
            "mlxtend                               0.23.4\n",
            "more-itertools                        10.6.0\n",
            "moviepy                               1.0.3\n",
            "mpmath                                1.3.0\n",
            "msgpack                               1.1.0\n",
            "multidict                             6.4.2\n",
            "multipledispatch                      1.0.0\n",
            "multitasking                          0.0.11\n",
            "murmurhash                            1.0.12\n",
            "music21                               9.3.0\n",
            "namex                                 0.0.8\n",
            "narwhals                              1.34.1\n",
            "natsort                               8.4.0\n",
            "nbclassic                             1.2.0\n",
            "nbclient                              0.10.2\n",
            "nbconvert                             7.16.6\n",
            "nbformat                              5.10.4\n",
            "ndindex                               1.9.2\n",
            "nest-asyncio                          1.6.0\n",
            "networkx                              3.4.2\n",
            "nibabel                               5.3.2\n",
            "nltk                                  3.9.1\n",
            "notebook                              6.5.7\n",
            "notebook_shim                         0.2.4\n",
            "numba                                 0.60.0\n",
            "numba-cuda                            0.2.0\n",
            "numexpr                               2.10.2\n",
            "numpy                                 2.0.2\n",
            "nvidia-cublas-cu12                    12.5.3.2\n",
            "nvidia-cuda-cupti-cu12                12.5.82\n",
            "nvidia-cuda-nvcc-cu12                 12.5.82\n",
            "nvidia-cuda-nvrtc-cu12                12.5.82\n",
            "nvidia-cuda-runtime-cu12              12.5.82\n",
            "nvidia-cudnn-cu12                     9.3.0.75\n",
            "nvidia-cufft-cu12                     11.2.3.61\n",
            "nvidia-curand-cu12                    10.3.6.82\n",
            "nvidia-cusolver-cu12                  11.6.3.83\n",
            "nvidia-cusparse-cu12                  12.5.1.3\n",
            "nvidia-cusparselt-cu12                0.6.2\n",
            "nvidia-ml-py                          12.570.86\n",
            "nvidia-nccl-cu12                      2.21.5\n",
            "nvidia-nvcomp-cu12                    4.2.0.11\n",
            "nvidia-nvjitlink-cu12                 12.5.82\n",
            "nvidia-nvtx-cu12                      12.4.127\n",
            "nvtx                                  0.2.11\n",
            "nx-cugraph-cu12                       25.2.0\n",
            "oauth2client                          4.1.3\n",
            "oauthlib                              3.2.2\n",
            "openai                                1.72.0\n",
            "opencv-contrib-python                 4.11.0.86\n",
            "opencv-python                         4.11.0.86\n",
            "opencv-python-headless                4.11.0.86\n",
            "openpyxl                              3.1.5\n",
            "opentelemetry-api                     1.31.1\n",
            "opentelemetry-sdk                     1.31.1\n",
            "opentelemetry-semantic-conventions    0.52b1\n",
            "opt_einsum                            3.4.0\n",
            "optax                                 0.2.4\n",
            "optree                                0.15.0\n",
            "orbax-checkpoint                      0.11.12\n",
            "orjson                                3.10.16\n",
            "osqp                                  1.0.3\n",
            "packaging                             24.2\n",
            "pandas                                2.2.2\n",
            "pandas-datareader                     0.10.0\n",
            "pandas-gbq                            0.28.0\n",
            "pandas-stubs                          2.2.2.240909\n",
            "pandocfilters                         1.5.1\n",
            "panel                                 1.6.2\n",
            "param                                 2.2.0\n",
            "parso                                 0.8.4\n",
            "parsy                                 2.1\n",
            "partd                                 1.4.2\n",
            "pathlib                               1.0.1\n",
            "patsy                                 1.0.1\n",
            "peewee                                3.17.9\n",
            "peft                                  0.14.0\n",
            "pexpect                               4.9.0\n",
            "pickleshare                           0.7.5\n",
            "pillow                                11.1.0\n",
            "pip                                   24.1.2\n",
            "platformdirs                          4.3.7\n",
            "plotly                                5.24.1\n",
            "plotnine                              0.14.5\n",
            "pluggy                                1.5.0\n",
            "ply                                   3.11\n",
            "polars                                1.21.0\n",
            "pooch                                 1.8.2\n",
            "portpicker                            1.5.2\n",
            "preshed                               3.0.9\n",
            "prettytable                           3.16.0\n",
            "proglog                               0.1.11\n",
            "progressbar2                          4.5.0\n",
            "prometheus_client                     0.21.1\n",
            "promise                               2.3\n",
            "prompt_toolkit                        3.0.50\n",
            "propcache                             0.3.1\n",
            "prophet                               1.1.6\n",
            "proto-plus                            1.26.1\n",
            "protobuf                              5.29.4\n",
            "psutil                                5.9.5\n",
            "psycopg2                              2.9.10\n",
            "ptyprocess                            0.7.0\n",
            "py-cpuinfo                            9.0.0\n",
            "py4j                                  0.10.9.7\n",
            "pyarrow                               18.1.0\n",
            "pyasn1                                0.6.1\n",
            "pyasn1_modules                        0.4.2\n",
            "pycairo                               1.27.0\n",
            "pycocotools                           2.0.8\n",
            "pycparser                             2.22\n",
            "pydantic                              2.11.3\n",
            "pydantic_core                         2.33.1\n",
            "pydata-google-auth                    1.9.1\n",
            "pydot                                 3.0.4\n",
            "pydotplus                             2.0.2\n",
            "PyDrive                               1.3.1\n",
            "PyDrive2                              1.21.3\n",
            "pyerfa                                2.0.1.5\n",
            "pygame                                2.6.1\n",
            "pygit2                                1.17.0\n",
            "Pygments                              2.18.0\n",
            "PyGObject                             3.42.0\n",
            "PyJWT                                 2.10.1\n",
            "pylibcudf-cu12                        25.2.1\n",
            "pylibcugraph-cu12                     25.2.0\n",
            "pylibraft-cu12                        25.2.0\n",
            "pymc                                  5.21.2\n",
            "pymystem3                             0.2.0\n",
            "pynndescent                           0.5.13\n",
            "pynvjitlink-cu12                      0.5.2\n",
            "pynvml                                12.0.0\n",
            "pyogrio                               0.10.0\n",
            "Pyomo                                 6.8.2\n",
            "PyOpenGL                              3.1.9\n",
            "pyOpenSSL                             24.2.1\n",
            "pyparsing                             3.2.3\n",
            "pyperclip                             1.9.0\n",
            "pyproj                                3.7.1\n",
            "pyshp                                 2.3.1\n",
            "PySocks                               1.7.1\n",
            "pyspark                               3.5.5\n",
            "pytensor                              2.30.3\n",
            "pytest                                8.3.5\n",
            "python-apt                            0.0.0\n",
            "python-box                            7.3.2\n",
            "python-dateutil                       2.8.2\n",
            "python-louvain                        0.16\n",
            "python-slugify                        8.0.4\n",
            "python-snappy                         0.7.3\n",
            "python-utils                          3.9.1\n",
            "pytz                                  2025.2\n",
            "pyviz_comms                           3.0.4\n",
            "PyYAML                                6.0.2\n",
            "pyzmq                                 24.0.1\n",
            "raft-dask-cu12                        25.2.0\n",
            "rapids-dask-dependency                25.2.0\n",
            "ratelim                               0.1.6\n",
            "referencing                           0.36.2\n",
            "regex                                 2024.11.6\n",
            "requests                              2.32.3\n",
            "requests-oauthlib                     2.0.0\n",
            "requests-toolbelt                     1.0.0\n",
            "requirements-parser                   0.9.0\n",
            "rich                                  13.9.4\n",
            "rmm-cu12                              25.2.0\n",
            "roman-numerals-py                     3.1.0\n",
            "rpds-py                               0.24.0\n",
            "rpy2                                  3.5.17\n",
            "rsa                                   4.9\n",
            "safetensors                           0.5.3\n",
            "scikit-image                          0.25.2\n",
            "scikit-learn                          1.6.1\n",
            "scipy                                 1.14.1\n",
            "scooby                                0.10.0\n",
            "scs                                   3.2.7.post2\n",
            "seaborn                               0.13.2\n",
            "SecretStorage                         3.3.3\n",
            "Send2Trash                            1.8.3\n",
            "sentence-transformers                 3.4.1\n",
            "sentencepiece                         0.2.0\n",
            "sentry-sdk                            2.25.1\n",
            "setproctitle                          1.3.5\n",
            "setuptools                            75.2.0\n",
            "shap                                  0.47.1\n",
            "shapely                               2.1.0\n",
            "shellingham                           1.5.4\n",
            "simple-parsing                        0.1.7\n",
            "simplejson                            3.20.1\n",
            "simsimd                               6.2.1\n",
            "six                                   1.17.0\n",
            "sklearn-compat                        0.1.3\n",
            "sklearn-pandas                        2.2.0\n",
            "slicer                                0.0.8\n",
            "smart-open                            7.1.0\n",
            "smmap                                 5.0.2\n",
            "sniffio                               1.3.1\n",
            "snowballstemmer                       2.2.0\n",
            "sortedcontainers                      2.4.0\n",
            "soundfile                             0.13.1\n",
            "soupsieve                             2.6\n",
            "soxr                                  0.5.0.post1\n",
            "spacy                                 3.8.5\n",
            "spacy-legacy                          3.0.12\n",
            "spacy-loggers                         1.0.5\n",
            "spanner-graph-notebook                1.1.6\n",
            "Sphinx                                8.2.3\n",
            "sphinxcontrib-applehelp               2.0.0\n",
            "sphinxcontrib-devhelp                 2.0.0\n",
            "sphinxcontrib-htmlhelp                2.1.0\n",
            "sphinxcontrib-jsmath                  1.0.1\n",
            "sphinxcontrib-qthelp                  2.0.0\n",
            "sphinxcontrib-serializinghtml         2.0.0\n",
            "SQLAlchemy                            2.0.40\n",
            "sqlglot                               25.20.2\n",
            "sqlparse                              0.5.3\n",
            "srsly                                 2.5.1\n",
            "stanio                                0.5.1\n",
            "statsmodels                           0.14.4\n",
            "stringzilla                           3.12.3\n",
            "sympy                                 1.13.1\n",
            "tables                                3.10.2\n",
            "tabulate                              0.9.0\n",
            "tbb                                   2022.1.0\n",
            "tblib                                 3.1.0\n",
            "tcmlib                                1.3.0\n",
            "tenacity                              9.1.2\n",
            "tensorboard                           2.18.0\n",
            "tensorboard-data-server               0.7.2\n",
            "tensorflow                            2.18.0\n",
            "tensorflow-datasets                   4.9.8\n",
            "tensorflow_decision_forests           1.11.0\n",
            "tensorflow-hub                        0.16.1\n",
            "tensorflow-io-gcs-filesystem          0.37.1\n",
            "tensorflow-metadata                   1.17.0\n",
            "tensorflow-probability                0.25.0\n",
            "tensorflow-text                       2.18.1\n",
            "tensorstore                           0.1.73\n",
            "termcolor                             3.0.1\n",
            "terminado                             0.18.1\n",
            "text-unidecode                        1.3\n",
            "textblob                              0.19.0\n",
            "tf_keras                              2.18.0\n",
            "tf-slim                               1.1.0\n",
            "thinc                                 8.3.6\n",
            "threadpoolctl                         3.6.0\n",
            "tifffile                              2025.3.30\n",
            "timm                                  1.0.15\n",
            "tinycss2                              1.4.0\n",
            "tokenizers                            0.21.1\n",
            "toml                                  0.10.2\n",
            "toolz                                 0.12.1\n",
            "torch                                 2.6.0+cu124\n",
            "torchaudio                            2.6.0+cu124\n",
            "torchsummary                          1.5.1\n",
            "torchvision                           0.21.0+cu124\n",
            "tornado                               6.4.2\n",
            "tqdm                                  4.67.1\n",
            "traitlets                             5.7.1\n",
            "traittypes                            0.2.1\n",
            "transformers                          4.51.1\n",
            "treelite                              4.4.1\n",
            "treescope                             0.1.9\n",
            "triton                                3.2.0\n",
            "tweepy                                4.15.0\n",
            "typeguard                             4.4.2\n",
            "typer                                 0.15.2\n",
            "types-pytz                            2025.2.0.20250326\n",
            "types-setuptools                      78.1.0.20250329\n",
            "typing_extensions                     4.13.1\n",
            "typing-inspection                     0.4.0\n",
            "tzdata                                2025.2\n",
            "tzlocal                               5.3.1\n",
            "uc-micro-py                           1.0.3\n",
            "ucx-py-cu12                           0.42.0\n",
            "ucxx-cu12                             0.42.0\n",
            "umap-learn                            0.5.7\n",
            "umf                                   0.10.0\n",
            "uritemplate                           4.1.1\n",
            "urllib3                               2.3.0\n",
            "vega-datasets                         0.9.0\n",
            "wadllib                               1.3.6\n",
            "wandb                                 0.19.9\n",
            "wasabi                                1.1.3\n",
            "wcwidth                               0.2.13\n",
            "weasel                                0.4.1\n",
            "webcolors                             24.11.1\n",
            "webencodings                          0.5.1\n",
            "websocket-client                      1.8.0\n",
            "websockets                            15.0.1\n",
            "Werkzeug                              3.1.3\n",
            "wheel                                 0.45.1\n",
            "widgetsnbextension                    3.6.10\n",
            "wordcloud                             1.9.4\n",
            "wrapt                                 1.17.2\n",
            "wurlitzer                             3.1.1\n",
            "xarray                                2025.1.2\n",
            "xarray-einstats                       0.8.0\n",
            "xgboost                               2.1.4\n",
            "xlrd                                  2.0.1\n",
            "xyzservices                           2025.1.0\n",
            "yarl                                  1.19.0\n",
            "ydf                                   0.11.0\n",
            "yellowbrick                           1.5\n",
            "yfinance                              0.2.55\n",
            "zict                                  3.0.0\n",
            "zipp                                  3.21.0\n",
            "zstandard                             0.23.0\n"
          ]
        }
      ]
    },
    {
      "cell_type": "code",
      "source": [],
      "metadata": {
        "id": "mv1h3vJsM-RK"
      },
      "execution_count": null,
      "outputs": []
    },
    {
      "cell_type": "code",
      "source": [],
      "metadata": {
        "id": "GK77H828M-Zk"
      },
      "execution_count": null,
      "outputs": []
    },
    {
      "cell_type": "markdown",
      "source": [
        "#### Ejemplo 2: Vamos a seleccionar aleatoriamente a un alumno para presentar su trabajo de ciencia de datos usando la biblioteca `random`.\n",
        "\n",
        "(https://docs.python.org/es/3/library/random.html)"
      ],
      "metadata": {
        "id": "5G6u4ZRYRIFZ"
      }
    },
    {
      "cell_type": "code",
      "source": [
        "estudiantes=['Juan', 'Maria', 'José',]\n",
        "notas=[9, 8.5, 6.5]\n"
      ],
      "metadata": {
        "id": "Y4o2AvhWNBdM"
      },
      "execution_count": 4,
      "outputs": []
    },
    {
      "cell_type": "code",
      "source": [
        "plt.bar(x=estudiantes, height=notas)\n",
        "plt.show()"
      ],
      "metadata": {
        "id": "9fXfsVnANBiG",
        "colab": {
          "base_uri": "https://localhost:8080/",
          "height": 430
        },
        "outputId": "4aa98113-dbe8-4ea8-983a-5fe613d3804d"
      },
      "execution_count": 9,
      "outputs": [
        {
          "output_type": "display_data",
          "data": {
            "text/plain": [
              "<Figure size 640x480 with 1 Axes>"
            ],
            "image/png": "[encoded data removed]"
          },
          "metadata": {}
        }
      ]
    },
    {
      "cell_type": "markdown",
      "source": [
        "<font color=green>**Tip:**</font> Podrás notar a medida que avanzas en los ejercicios la importancia de acudir a la documentación para aprender cómo utilizar un método de algún módulo en el lenguaje Python.\n",
        "\n",
        "El método `help()`, por ejemplo, retorna una descripción sobre una variable, método o clase.\n",
        "\n",
        "https://docs.python.org/es/3/library/functions.html?#help"
      ],
      "metadata": {
        "id": "N-XJrnISGpTN"
      }
    },
    {
      "cell_type": "code",
      "source": [
        "estudiantes2=['Juan', 'Maria', 'José','erika']\n",
        "notas2=[9, 8.5, 6.5]"
      ],
      "metadata": {
        "id": "a2zJCXNUND9X"
      },
      "execution_count": 12,
      "outputs": []
    },
    {
      "cell_type": "code",
      "source": [
        "import random"
      ],
      "metadata": {
        "id": "2Yvr71PIND_r"
      },
      "execution_count": 10,
      "outputs": []
    },
    {
      "cell_type": "code",
      "source": [
        "from random import choice"
      ],
      "metadata": {
        "id": "UFfZz4CxNGjU"
      },
      "execution_count": 11,
      "outputs": []
    },
    {
      "cell_type": "code",
      "source": [
        "estudiante=choice(estudiantes2)\n",
        "estudiante"
      ],
      "metadata": {
        "colab": {
          "base_uri": "https://localhost:8080/",
          "height": 35
        },
        "id": "hp7r7gxtVOz1",
        "outputId": "3ded410c-574c-454a-e050-a8bd372fd2f7"
      },
      "execution_count": 32,
      "outputs": [
        {
          "output_type": "execute_result",
          "data": {
            "text/plain": [
              "'Maria'"
            ],
            "application/vnd.google.colaboratory.intrinsic+json": {
              "type": "string"
            }
          },
          "metadata": {},
          "execution_count": 32
        }
      ]
    },
    {
      "cell_type": "code",
      "source": [
        "from random import randrange, sample\n",
        "\n",
        "lista = []\n",
        "\n",
        "for i in range(0, 20):\n",
        "  lista.append(randrange(100))\n",
        "\n",
        "sample(lista, 5)"
      ],
      "metadata": {
        "colab": {
          "base_uri": "https://localhost:8080/"
        },
        "id": "IA4rlgnnVzq6",
        "outputId": "9fca7c0d-a3de-4543-ab83-dc95dd191d7f"
      },
      "execution_count": 35,
      "outputs": [
        {
          "output_type": "execute_result",
          "data": {
            "text/plain": [
              "[51, 97, 45, 70, 73]"
            ]
          },
          "metadata": {},
          "execution_count": 35
        }
      ]
    },
    {
      "cell_type": "code",
      "source": [
        "import math\n",
        "\n",
        "n = int(input(\"Digite um número positivo para calcular sua raiz quadrada:\"))\n",
        "print(f\"\\nA raiz quadrada de {n} é igual a {math.sqrt(n)}\")"
      ],
      "metadata": {
        "colab": {
          "base_uri": "https://localhost:8080/"
        },
        "id": "bBsmaEsVVzuW",
        "outputId": "4ef2cd44-49f1-47cc-9268-8e27762e401f"
      },
      "execution_count": 37,
      "outputs": [
        {
          "output_type": "stream",
          "name": "stdout",
          "text": [
            "Digite um número positivo para calcular sua raiz quadrada:2\n",
            "\n",
            "A raiz quadrada de 2 é igual a 1.4142135623730951\n"
          ]
        }
      ]
    },
    {
      "cell_type": "code",
      "source": [
        "from math import *\n",
        "\n",
        "n = int(input(\"Digite um número positivo para calcular sua raiz quadrada:\"))\n",
        "print(f\"\\nA raiz quadrada de {n} é igual a {sqrt(n)}\")"
      ],
      "metadata": {
        "colab": {
          "base_uri": "https://localhost:8080/"
        },
        "id": "qmlioNhoVzx7",
        "outputId": "70c3e5ea-a43f-43e6-a7ed-693f7f727726"
      },
      "execution_count": 38,
      "outputs": [
        {
          "output_type": "stream",
          "name": "stdout",
          "text": [
            "Digite um número positivo para calcular sua raiz quadrada:3\n",
            "\n",
            "A raiz quadrada de 3 é igual a 1.7320508075688772\n"
          ]
        }
      ]
    },
    {
      "cell_type": "code",
      "source": [
        "from math import ceil\n",
        "\n",
        "receita = 1000\n",
        "unidade = 15\n",
        "\n",
        "print(f\"La empresa vendió aproximadamente {ceil(receita/unidade)} unidades\")"
      ],
      "metadata": {
        "colab": {
          "base_uri": "https://localhost:8080/"
        },
        "id": "uOgDinGqVz0j",
        "outputId": "cf2af0e2-a8d1-461f-c4f9-c4b5b23b46e3"
      },
      "execution_count": 39,
      "outputs": [
        {
          "output_type": "stream",
          "name": "stdout",
          "text": [
            "La empresa vendió aproximadamente 67 unidades\n"
          ]
        }
      ]
    },
    {
      "cell_type": "code",
      "source": [
        "import math\n",
        "\n",
        "receita = 1000\n",
        "unidade = 15\n",
        "\n",
        "print(f\"La empresa vendió aproximadamente {math.ceil(receita/unidade)} unidades\")"
      ],
      "metadata": {
        "colab": {
          "base_uri": "https://localhost:8080/"
        },
        "id": "PCvyUf6AVz2y",
        "outputId": "8efb7a86-2ce8-4a39-d0b6-0ff21f6e7712"
      },
      "execution_count": 40,
      "outputs": [
        {
          "output_type": "stream",
          "name": "stdout",
          "text": [
            "La empresa vendió aproximadamente 67 unidades\n"
          ]
        }
      ]
    },
    {
      "cell_type": "code",
      "source": [
        "pip install matplotlib==3.7.1"
      ],
      "metadata": {
        "colab": {
          "base_uri": "https://localhost:8080/",
          "height": 515
        },
        "id": "coO1keBoVz5h",
        "outputId": "f9aac65e-1f86-49fe-b07e-30fb7a9889d0"
      },
      "execution_count": 41,
      "outputs": [
        {
          "output_type": "stream",
          "name": "stdout",
          "text": [
            "Collecting matplotlib==3.7.1\n",
            "  Downloading matplotlib-3.7.1-cp311-cp311-manylinux_2_17_x86_64.manylinux2014_x86_64.whl.metadata (5.6 kB)\n",
            "Requirement already satisfied: contourpy>=1.0.1 in /usr/local/lib/python3.11/dist-packages (from matplotlib==3.7.1) (1.3.1)\n",
            "Requirement already satisfied: cycler>=0.10 in /usr/local/lib/python3.11/dist-packages (from matplotlib==3.7.1) (0.12.1)\n",
            "Requirement already satisfied: fonttools>=4.22.0 in /usr/local/lib/python3.11/dist-packages (from matplotlib==3.7.1) (4.57.0)\n",
            "Requirement already satisfied: kiwisolver>=1.0.1 in /usr/local/lib/python3.11/dist-packages (from matplotlib==3.7.1) (1.4.8)\n",
            "Requirement already satisfied: numpy>=1.20 in /usr/local/lib/python3.11/dist-packages (from matplotlib==3.7.1) (1.26.4)\n",
            "Requirement already satisfied: packaging>=20.0 in /usr/local/lib/python3.11/dist-packages (from matplotlib==3.7.1) (24.2)\n",
            "Requirement already satisfied: pillow>=6.2.0 in /usr/local/lib/python3.11/dist-packages (from matplotlib==3.7.1) (11.1.0)\n",
            "Requirement already satisfied: pyparsing>=2.3.1 in /usr/local/lib/python3.11/dist-packages (from matplotlib==3.7.1) (3.2.3)\n",
            "Requirement already satisfied: python-dateutil>=2.7 in /usr/local/lib/python3.11/dist-packages (from matplotlib==3.7.1) (2.8.2)\n",
            "Requirement already satisfied: six>=1.5 in /usr/local/lib/python3.11/dist-packages (from python-dateutil>=2.7->matplotlib==3.7.1) (1.17.0)\n",
            "Downloading matplotlib-3.7.1-cp311-cp311-manylinux_2_17_x86_64.manylinux2014_x86_64.whl (11.6 MB)\n",
            "\u001b[2K   \u001b[90m━━━━━━━━━━━━━━━━━━━━━━━━━━━━━━━━━━━━━━━━\u001b[0m \u001b[32m11.6/11.6 MB\u001b[0m \u001b[31m94.9 MB/s\u001b[0m eta \u001b[36m0:00:00\u001b[0m\n",
            "\u001b[?25hInstalling collected packages: matplotlib\n",
            "  Attempting uninstall: matplotlib\n",
            "    Found existing installation: matplotlib 3.8.1\n",
            "    Uninstalling matplotlib-3.8.1:\n",
            "      Successfully uninstalled matplotlib-3.8.1\n",
            "\u001b[31mERROR: pip's dependency resolver does not currently take into account all the packages that are installed. This behaviour is the source of the following dependency conflicts.\n",
            "plotnine 0.14.5 requires matplotlib>=3.8.0, but you have matplotlib 3.7.1 which is incompatible.\u001b[0m\u001b[31m\n",
            "\u001b[0mSuccessfully installed matplotlib-3.7.1\n"
          ]
        },
        {
          "output_type": "display_data",
          "data": {
            "application/vnd.colab-display-data+json": {
              "pip_warning": {
                "packages": [
                  "matplotlib",
                  "mpl_toolkits"
                ]
              },
              "id": "5b1c9dfe53e34033b6daae17b06b8649"
            }
          },
          "metadata": {}
        }
      ]
    },
    {
      "cell_type": "code",
      "source": [
        "import numpy as np"
      ],
      "metadata": {
        "id": "R7kOJiacXWCE"
      },
      "execution_count": 2,
      "outputs": []
    },
    {
      "cell_type": "code",
      "source": [
        "import random\n",
        "\n",
        "lista = [8, 12, 54, 23, 43, 1, 90, 87, 105, 77]\n",
        "numero_aleatorio = random.choice(lista)\n",
        "print(numero_aleatorio)"
      ],
      "metadata": {
        "colab": {
          "base_uri": "https://localhost:8080/"
        },
        "id": "0yzirWZfXWE3",
        "outputId": "d0d67364-fd88-4259-b0b0-fe476456accd"
      },
      "execution_count": 3,
      "outputs": [
        {
          "output_type": "stream",
          "name": "stdout",
          "text": [
            "1\n"
          ]
        }
      ]
    },
    {
      "cell_type": "code",
      "source": [
        "import random\n",
        "numero_aleatorio = random.randrange(100)\n",
        "print(numero_aleatorio)"
      ],
      "metadata": {
        "colab": {
          "base_uri": "https://localhost:8080/"
        },
        "id": "eU28QT5FXWHI",
        "outputId": "5f5f2268-adf3-4ae1-85a3-7bb72126f6af"
      },
      "execution_count": 4,
      "outputs": [
        {
          "output_type": "stream",
          "name": "stdout",
          "text": [
            "33\n"
          ]
        }
      ]
    },
    {
      "cell_type": "code",
      "source": [
        "import math\n",
        "num1 = int(input(\"Ingrese el primer número entero: \"))\n",
        "num2 = int(input(\"Ingrese el segundo número entero: \"))\n",
        "resultado = math.pow(num1, num2)\n",
        "print(f\"La potencia de {num1} elevado a {num2} es {resultado}\")"
      ],
      "metadata": {
        "colab": {
          "base_uri": "https://localhost:8080/"
        },
        "id": "a5H2dM1nXWJb",
        "outputId": "deff804f-6f9d-4843-89c1-7941db27a348"
      },
      "execution_count": 5,
      "outputs": [
        {
          "output_type": "stream",
          "name": "stdout",
          "text": [
            "Ingrese el primer número entero: 2\n",
            "Ingrese el segundo número entero: 3\n",
            "La potencia de 2 elevado a 3 es 8.0\n"
          ]
        }
      ]
    },
    {
      "cell_type": "code",
      "source": [
        "import random\n",
        "\n",
        "cantidad_participantes = int(input(\"Ingrese la cantidad de participantes: \"))\n",
        "numero_sorteado = random.randint(1, cantidad_participantes)\n",
        "print(f\"El número sorteado es: {numero_sorteado}\")"
      ],
      "metadata": {
        "colab": {
          "base_uri": "https://localhost:8080/"
        },
        "id": "1owDU-guXWLm",
        "outputId": "ac220d25-3db0-411d-bc9d-4b3dbdca85a0"
      },
      "execution_count": 6,
      "outputs": [
        {
          "output_type": "stream",
          "name": "stdout",
          "text": [
            "Ingrese la cantidad de participantes: 3\n",
            "El número sorteado es: 1\n"
          ]
        }
      ]
    },
    {
      "cell_type": "code",
      "source": [
        "import random\n",
        "\n",
        "nombre_usuario = input(\"Ingrese su nombre: \")\n",
        "token_generado = random.randrange(1000, 9999, 2)\n",
        "print(f\"Hola, {nombre_usuario}, tu token de acceso es {token_generado} ¡Bienvenido/a!\")"
      ],
      "metadata": {
        "colab": {
          "base_uri": "https://localhost:8080/"
        },
        "id": "Quq_ciDOXWN0",
        "outputId": "155f0acd-9ec0-4a44-baad-1934e4892070"
      },
      "execution_count": 7,
      "outputs": [
        {
          "output_type": "stream",
          "name": "stdout",
          "text": [
            "Ingrese su nombre: Juan\n",
            "Hola, Juan, tu token de acceso es 2648 ¡Bienvenido/a!\n"
          ]
        }
      ]
    },
    {
      "cell_type": "code",
      "source": [
        "import random\n",
        "\n",
        "frutas = [\"manzana\", \"banana\", \"uva\", \"pera\", \"mango\", \"coco\", \"sandia\", \"fresa\", \"naranja\", \"maracuya\", \"kiwi\", \"cereza\"]\n",
        "seleccion_frutas = random.sample(frutas, 3)\n",
        "print(\"Ensalada de frutas sorpresa:\", seleccion_frutas)"
      ],
      "metadata": {
        "colab": {
          "base_uri": "https://localhost:8080/"
        },
        "id": "ic4mxQlPXWQb",
        "outputId": "51f7e66a-d0a4-4dac-d1a3-90a85b5d518a"
      },
      "execution_count": 8,
      "outputs": [
        {
          "output_type": "stream",
          "name": "stdout",
          "text": [
            "Ensalada de frutas sorpresa: ['pera', 'fresa', 'naranja']\n"
          ]
        }
      ]
    },
    {
      "cell_type": "markdown",
      "source": [],
      "metadata": {
        "id": "FhHv2N9JeyKi"
      }
    },
    {
      "cell_type": "code",
      "source": [
        "import math\n",
        "\n",
        "numeros = [2, 8, 15, 23, 91, 112, 256]\n",
        "raices_enteras = [num for num in numeros if math.sqrt(num) % 1 == 0]\n",
        "print(\"Números con raíces enteras:\", raices_enteras)"
      ],
      "metadata": {
        "colab": {
          "base_uri": "https://localhost:8080/"
        },
        "id": "KLpoppf-XWSp",
        "outputId": "66a72001-023a-4350-e7f4-1d6037ad6a42"
      },
      "execution_count": 9,
      "outputs": [
        {
          "output_type": "stream",
          "name": "stdout",
          "text": [
            "Números con raíces enteras: [256]\n"
          ]
        }
      ]
    },
    {
      "cell_type": "code",
      "source": [
        "import math\n",
        "\n",
        "precio_metro_cuadrado = 25.00\n",
        "radio = float(input(\"Ingrese el radio del área circular en metros: \"))\n",
        "area = math.pi * math.pow(radio, 2)\n",
        "costo_total = precio_metro_cuadrado * area\n",
        "\n",
        "print(f\"El costo total es de R$ {round(costo_total,2)}\")"
      ],
      "metadata": {
        "colab": {
          "base_uri": "https://localhost:8080/"
        },
        "id": "PSTFoHLuXWVp",
        "outputId": "8f6440a6-91a9-4c29-9d3f-6e4d1f1f68ea"
      },
      "execution_count": 10,
      "outputs": [
        {
          "output_type": "stream",
          "name": "stdout",
          "text": [
            "Ingrese el radio del área circular en metros: 456\n",
            "El costo total es de R$ 16331255.25\n"
          ]
        }
      ]
    },
    {
      "cell_type": "code",
      "source": [],
      "metadata": {
        "id": "BBUXeVaXVz7w"
      },
      "execution_count": null,
      "outputs": []
    },
    {
      "cell_type": "code",
      "source": [],
      "metadata": {
        "id": "0oHcaEBsVO3-"
      },
      "execution_count": null,
      "outputs": []
    },
    {
      "cell_type": "markdown",
      "source": [
        "## <font color=green> 2. FUNCIONES\n",
        "---"
      ],
      "metadata": {
        "id": "2hrSPmlcBwWS"
      }
    },
    {
      "cell_type": "markdown",
      "source": [
        "En Python, las **funciones** son secuencias de instrucciones que ejecutan tareas específicas, permitiendo su reutilización en diferentes partes del código. Estas pueden recibir parámetros de entrada (que también los conocemos como *inputs*) y también retornar resultados."
      ],
      "metadata": {
        "id": "gC4lHsW-DREY"
      }
    },
    {
      "cell_type": "markdown",
      "source": [
        "## 2.1 Built-in function (Función Incorporada)\n",
        "\n",
        "El interpretador de Python contiene una serie de funciones incorporadas que pueden ser invocadas es cualquier momento. Algunas que vamos a utilizar a lo largo de este curso son: `type()`, `print()`, `list()`, `zip()`, `sum()`, `map()`, etc.\n",
        "\n",
        "***Documentación:***\n",
        "https://docs.python.org/es/3/library/functions.html\n"
      ],
      "metadata": {
        "id": "Qr_h1_UNEzHZ"
      }
    },
    {
      "cell_type": "markdown",
      "source": [
        "#### **Situación 1:**\n",
        "\n",
        "La institución educativa para la cual nos encontramos trabajando compartió los datos de las notas de un estudiante para que pudiesemos calcular su promedio con una casilla decimal.\n",
        "\n",
        "Los datos recibidos corresponden a un diccionario cuyas llaves indican el trimestre en cuestión y sus valores corresponden a las notas de cada trimestre del estudiante en una respectiva materia."
      ],
      "metadata": {
        "id": "MMOJIW3TyLIB"
      }
    },
    {
      "cell_type": "code",
      "source": [
        "notas ={'1° Trimestre ': 9.5,'2° Trimestre ': 8,'3° Trimestre ': 7}"
      ],
      "metadata": {
        "id": "WQ-pCgdaMOlc"
      },
      "execution_count": 1,
      "outputs": []
    },
    {
      "cell_type": "code",
      "source": [
        "from google.colab import runtime\n",
        "runtime.unassign()"
      ],
      "metadata": {
        "id": "uaDTOOr8aGcE"
      },
      "execution_count": 1,
      "outputs": []
    },
    {
      "cell_type": "code",
      "source": [
        "suma=0\n",
        "for s in notas.values():\n",
        "  suma +=s\n",
        "print(suma)"
      ],
      "metadata": {
        "id": "GU-HvC-QMOoS",
        "colab": {
          "base_uri": "https://localhost:8080/"
        },
        "outputId": "ff32e7c1-b3fc-4b32-ef3d-5a58702d9ffc"
      },
      "execution_count": 2,
      "outputs": [
        {
          "output_type": "stream",
          "name": "stdout",
          "text": [
            "24.5\n"
          ]
        }
      ]
    },
    {
      "cell_type": "code",
      "source": [
        "promedio = sum(notas.values()) / len(notas)\n",
        "promedio"
      ],
      "metadata": {
        "id": "qKEyjY2bMOqj",
        "colab": {
          "base_uri": "https://localhost:8080/"
        },
        "outputId": "e34eb636-6af4-4bcf-d677-3c650fe812ab"
      },
      "execution_count": 4,
      "outputs": [
        {
          "output_type": "execute_result",
          "data": {
            "text/plain": [
              "8.166666666666666"
            ]
          },
          "metadata": {},
          "execution_count": 4
        }
      ]
    },
    {
      "cell_type": "code",
      "source": [
        "round(promedio)"
      ],
      "metadata": {
        "colab": {
          "base_uri": "https://localhost:8080/"
        },
        "id": "5EuZB-0iaZ6b",
        "outputId": "5279cb05-9895-46c8-d29b-ebbff6b07210"
      },
      "execution_count": 5,
      "outputs": [
        {
          "output_type": "execute_result",
          "data": {
            "text/plain": [
              "8"
            ]
          },
          "metadata": {},
          "execution_count": 5
        }
      ]
    },
    {
      "cell_type": "code",
      "source": [],
      "metadata": {
        "id": "9HAJXOTKbxFz"
      },
      "execution_count": null,
      "outputs": []
    },
    {
      "cell_type": "code",
      "source": [
        "peso = float(input(\"Digita el peso, en kilogramos: \"))\n",
        "altura = float(input(\"Digita la altura, en metros: \"))\n",
        "\n",
        "imc = round(peso / pow(altura, 2), 2)\n",
        "\n",
        "print(f\"El IMC de la persona es: {imc}\")"
      ],
      "metadata": {
        "colab": {
          "base_uri": "https://localhost:8080/"
        },
        "id": "3RZE_PMXbxRl",
        "outputId": "af61fb37-7441-43ae-8921-e13e3cbb338a"
      },
      "execution_count": 6,
      "outputs": [
        {
          "output_type": "stream",
          "name": "stdout",
          "text": [
            "Digita el peso, en kilogramos: 112\n",
            "Digita la altura, en metros: 76\n",
            "El IMC de la persona es: 0.02\n"
          ]
        }
      ]
    },
    {
      "cell_type": "markdown",
      "source": [
        "*Redondear el promedio usando round():*\n",
        "\n",
        "https://docs.python.org/es/3/library/functions.html#round"
      ],
      "metadata": {
        "id": "JD2z3LW8312E"
      }
    },
    {
      "cell_type": "code",
      "source": [],
      "metadata": {
        "id": "c7Cn5XFfMP5E"
      },
      "execution_count": null,
      "outputs": []
    },
    {
      "cell_type": "code",
      "source": [],
      "metadata": {
        "id": "eVNPFr0pMRWl"
      },
      "execution_count": null,
      "outputs": []
    },
    {
      "cell_type": "markdown",
      "source": [
        "## 2.2 Creando funciones"
      ],
      "metadata": {
        "id": "NCUSezOJIdfy"
      }
    },
    {
      "cell_type": "markdown",
      "source": [
        "Tras explorar las funciones incorporadas y aprender cómo utilizar algunas de ellas, es posible que tengas la necesidad de resolver un problema específico y estas no sean suficientes.\n",
        "\n",
        "Por este motivo, necesitaremos crear nuestras propias funciones, y aún más, si necesitamos aplicarlas en varias partes de nuestros códigos."
      ],
      "metadata": {
        "id": "QrTAXwghsg6s"
      }
    },
    {
      "cell_type": "markdown",
      "source": [
        "### Funciones sin parámetros\n",
        "\n",
        "#### Formato estándar:\n",
        "\n",
        "```python\n",
        "def <nombre>():\n",
        "  <instrucciones>\n",
        "```"
      ],
      "metadata": {
        "id": "zxyXiX462A_X"
      }
    },
    {
      "cell_type": "code",
      "source": [
        "def promedio():\n",
        "  calculo = (10+9+7)/3\n",
        "  print(calculo)"
      ],
      "metadata": {
        "id": "WgWoULpnMSrT"
      },
      "execution_count": 15,
      "outputs": []
    },
    {
      "cell_type": "code",
      "source": [
        "promedio()"
      ],
      "metadata": {
        "id": "VKfg0zkDMStp",
        "colab": {
          "base_uri": "https://localhost:8080/"
        },
        "outputId": "c985eca8-1a27-4c86-ce93-ac5c813fe67d"
      },
      "execution_count": 17,
      "outputs": [
        {
          "output_type": "stream",
          "name": "stdout",
          "text": [
            "8.666666666666666\n"
          ]
        }
      ]
    },
    {
      "cell_type": "code",
      "source": [],
      "metadata": {
        "id": "04YIHBu-MTNB"
      },
      "execution_count": null,
      "outputs": []
    },
    {
      "cell_type": "markdown",
      "source": [
        "### Funciones con parámetros\n",
        "\n",
        "#### Formato estándar:\n",
        "\n",
        "```python\n",
        "def <nombre>(<param_1>, <param_2>, ..., <param_n>):\n",
        "  <instrucciones>\n",
        "```"
      ],
      "metadata": {
        "id": "o9AR_DNDFKSD"
      }
    },
    {
      "cell_type": "code",
      "source": [
        "def promedio(nota_1,nota_2,nota_3)  :\n",
        "  calculo = (nota_1+nota_2+nota_3)/3\n",
        "  print(calculo)"
      ],
      "metadata": {
        "id": "1QHJXCYsMUx3"
      },
      "execution_count": 19,
      "outputs": []
    },
    {
      "cell_type": "code",
      "source": [
        "promedio(10,9,7)"
      ],
      "metadata": {
        "id": "txkkIwheMU0n",
        "colab": {
          "base_uri": "https://localhost:8080/"
        },
        "outputId": "0b7a79fc-316c-4d21-ae9d-4b47226ccbff"
      },
      "execution_count": 20,
      "outputs": [
        {
          "output_type": "stream",
          "name": "stdout",
          "text": [
            "8.666666666666666\n"
          ]
        }
      ]
    },
    {
      "cell_type": "code",
      "source": [
        "promedio(10,10,10)"
      ],
      "metadata": {
        "id": "Pq88ApQEMWK9"
      },
      "execution_count": null,
      "outputs": []
    },
    {
      "cell_type": "markdown",
      "source": [
        "#### **Situación 2:**\n",
        "\n",
        "Recibimos una solicitud para crear una función que calcule el promedio de notas de un estudiante a partir de una lista; que permita alterar la cantidad de notas, y que no implique tener que modificar la función.\n",
        "\n",
        "Los datos recibidos, en esta ocasión, corresponden a una lista que contiene las notas de un mismo estudiante en una determinada materia.\n",
        "\n",
        "notas = 8.5, 9.0, 6.0, 10.0\n",
        "\n",
        "**¿Vamos a resolver este desafío?**\n",
        "\n",
        "Para facilitar nuestra comprensión del proceso, vamos a aplicar las notas de un único estudiante; sin embargo, puedes probar otros casos para practicar."
      ],
      "metadata": {
        "id": "-Umx7n134suz"
      }
    },
    {
      "cell_type": "code",
      "source": [
        "notas = [8.5, 9.0, 6.0, 10.0]"
      ],
      "metadata": {
        "id": "U4MlTO9ucAKc"
      },
      "execution_count": null,
      "outputs": []
    },
    {
      "cell_type": "code",
      "source": [
        "notas = [8.5, 9.0, 6.0, 10.0]"
      ],
      "metadata": {
        "id": "ZrqyDBNFMYOK"
      },
      "execution_count": 21,
      "outputs": []
    },
    {
      "cell_type": "code",
      "source": [
        "def promedio(lista):\n",
        "  calculo = sum(lista) / len(lista)\n",
        "  print(calculo)"
      ],
      "metadata": {
        "id": "wEkixagwMY2E"
      },
      "execution_count": 22,
      "outputs": []
    },
    {
      "cell_type": "code",
      "source": [
        "promedio(notas)"
      ],
      "metadata": {
        "id": "60Gvxd9tMa5d",
        "colab": {
          "base_uri": "https://localhost:8080/"
        },
        "outputId": "a45239cb-8ad0-4c00-c156-c8663a3ea3b5"
      },
      "execution_count": 24,
      "outputs": [
        {
          "output_type": "stream",
          "name": "stdout",
          "text": [
            "8.375\n"
          ]
        }
      ]
    },
    {
      "cell_type": "code",
      "source": [
        "media=promedio(notas)"
      ],
      "metadata": {
        "colab": {
          "base_uri": "https://localhost:8080/"
        },
        "id": "Q_PiS0m8d3Z-",
        "outputId": "37259a2c-60b1-49e6-b3c1-f2ee6f08b988"
      },
      "execution_count": 25,
      "outputs": [
        {
          "output_type": "stream",
          "name": "stdout",
          "text": [
            "8.375\n"
          ]
        }
      ]
    },
    {
      "cell_type": "code",
      "source": [],
      "metadata": {
        "id": "QzAP0Cy-d3fi"
      },
      "execution_count": null,
      "outputs": []
    },
    {
      "cell_type": "markdown",
      "source": [
        "<font color=red>**Atención!**</font>\n",
        "Cuando utilizamos funciones, necesitamos prestar atención a una propiedad llamada **Alcance de una función**. Esta propiedad determina dónde una variable puede ser utilizada dentro del código. Por ejemplo, una variable creada dentro de una función existirá únicamente dentro de esta función. O sea, cuando finaliza la ejecución de una función, la variable no estará disponible para el usuario en el resto del código."
      ],
      "metadata": {
        "id": "skMq7d0_xHND"
      }
    },
    {
      "cell_type": "code",
      "source": [
        "type(media)"
      ],
      "metadata": {
        "id": "yTOqJSgsMbdJ",
        "colab": {
          "base_uri": "https://localhost:8080/"
        },
        "outputId": "364b3483-ca45-4d7b-97a8-752ac4e42d55"
      },
      "execution_count": 26,
      "outputs": [
        {
          "output_type": "execute_result",
          "data": {
            "text/plain": [
              "NoneType"
            ]
          },
          "metadata": {},
          "execution_count": 26
        }
      ]
    },
    {
      "cell_type": "markdown",
      "source": [
        "## 2.3 Funciones que retornan valores\n",
        "\n",
        "#### Formato estándar:\n",
        "\n",
        "```python\n",
        "def <nombre>(<param_1>, <param_2>, ..., <param_n>):\n",
        "  <instrucciones>\n",
        "  return resultado\n",
        "```"
      ],
      "metadata": {
        "id": "-oDFGKcA52kG"
      }
    },
    {
      "cell_type": "markdown",
      "source": [
        "Retomando la actividad anterior, podemos retornar y guardar el valor del promedio de la siguiente forma:"
      ],
      "metadata": {
        "id": "DxvT_uItbQ-q"
      }
    },
    {
      "cell_type": "code",
      "source": [
        "# Notas del estudiante\n",
        "notas = [8.5, 9.0, 6.0, 10.0]"
      ],
      "metadata": {
        "id": "GlWdnX7Ubgl3"
      },
      "execution_count": 27,
      "outputs": []
    },
    {
      "cell_type": "code",
      "source": [
        "def promedio(lista):\n",
        "  resultado=sum(lista) / len(lista)\n",
        "  return resultado"
      ],
      "metadata": {
        "id": "JdMFsT9GMgI6"
      },
      "execution_count": 28,
      "outputs": []
    },
    {
      "cell_type": "code",
      "source": [
        "promedio(notas)"
      ],
      "metadata": {
        "id": "p7AwNnTCMgLf",
        "colab": {
          "base_uri": "https://localhost:8080/"
        },
        "outputId": "40e540a4-95f9-4e32-d203-310d31608f8a"
      },
      "execution_count": 30,
      "outputs": [
        {
          "output_type": "execute_result",
          "data": {
            "text/plain": [
              "8.375"
            ]
          },
          "metadata": {},
          "execution_count": 30
        }
      ]
    },
    {
      "cell_type": "code",
      "source": [
        "resultado=promedio(notas)"
      ],
      "metadata": {
        "id": "35zC247QMgRP"
      },
      "execution_count": 31,
      "outputs": []
    },
    {
      "cell_type": "code",
      "source": [
        "resultado"
      ],
      "metadata": {
        "id": "TjmB8IWpMgV4",
        "colab": {
          "base_uri": "https://localhost:8080/"
        },
        "outputId": "89dcdcd6-78e4-4dc6-fe89-c81ea876e0e4"
      },
      "execution_count": 32,
      "outputs": [
        {
          "output_type": "execute_result",
          "data": {
            "text/plain": [
              "8.375"
            ]
          },
          "metadata": {},
          "execution_count": 32
        }
      ]
    },
    {
      "cell_type": "code",
      "source": [
        "type(resultado)"
      ],
      "metadata": {
        "colab": {
          "base_uri": "https://localhost:8080/"
        },
        "id": "aHOEseOLf-nd",
        "outputId": "61b1f32b-2c01-4861-e49e-bf95630e556f"
      },
      "execution_count": 33,
      "outputs": [
        {
          "output_type": "execute_result",
          "data": {
            "text/plain": [
              "float"
            ]
          },
          "metadata": {},
          "execution_count": 33
        }
      ]
    },
    {
      "cell_type": "markdown",
      "source": [
        "#### **Situación 3:**\n",
        "\n",
        "Recibimos una nueva solicitud. Debemos calcular el promedio de un estudiante a partir de una lista y retornar tanto el promedio como la situación del estudiante (\"Aprobado(a)\" si la nota es mayor o igual a 7.0, en caso contrario, será \"Reprobado(a)\").\n",
        "\n",
        "Además de ello, necesitamos exhibir un pequeño texto para indicar el promedio del estudiante y cuál es su situación. Los datos recibidos corresponden a una lista que contiene apenas las notas de un estudiante en una materia determinada.\n",
        "\n",
        "**¿Vamos a resolver este desafío?**\n",
        "\n",
        "Para facilitar nuestra comprensión del proceso, vamos a aplicar las notas de un único estudiante; sin embargo, puedes probar otros casos para practicar."
      ],
      "metadata": {
        "id": "_awyOKOH8OOi"
      }
    },
    {
      "cell_type": "code",
      "source": [
        "# Notas del estudiante\n",
        "notas = [8.5, 9.0, 6.0, 10.0]"
      ],
      "metadata": {
        "id": "3saGo2kDf0BY"
      },
      "execution_count": 34,
      "outputs": []
    },
    {
      "cell_type": "code",
      "source": [
        "def boletin(lista):\n",
        "  resultado=sum(lista) / len(lista)\n",
        "  if resultado >= 7:\n",
        "    situacion = \"Aprobado(a)\"\n",
        "\n",
        "  else:\n",
        "    situacion = \"Reprobado(a)\"\n",
        "\n",
        "  return (resultado,situacion)\n"
      ],
      "metadata": {
        "id": "unNLrdFjMjbv"
      },
      "execution_count": 39,
      "outputs": []
    },
    {
      "cell_type": "code",
      "source": [
        "boletin(notas)"
      ],
      "metadata": {
        "id": "Rmvg4hNeMjeD",
        "colab": {
          "base_uri": "https://localhost:8080/"
        },
        "outputId": "ceffefd7-8870-4d4c-bb09-4dc688645d72"
      },
      "execution_count": 40,
      "outputs": [
        {
          "output_type": "execute_result",
          "data": {
            "text/plain": [
              "(8.375, 'Aprobado(a)')"
            ]
          },
          "metadata": {},
          "execution_count": 40
        }
      ]
    },
    {
      "cell_type": "code",
      "source": [],
      "metadata": {
        "id": "tnO8NBZZhdv4"
      },
      "execution_count": null,
      "outputs": []
    },
    {
      "cell_type": "code",
      "source": [
        "resultado,situacion=boletin(notas)"
      ],
      "metadata": {
        "id": "jCYuFpmeMji6"
      },
      "execution_count": 45,
      "outputs": []
    },
    {
      "cell_type": "code",
      "source": [
        "resultado"
      ],
      "metadata": {
        "id": "hSht0Z2cMjlT",
        "colab": {
          "base_uri": "https://localhost:8080/"
        },
        "outputId": "9d303c71-bdde-49c6-a8e9-809b11655e1f"
      },
      "execution_count": 42,
      "outputs": [
        {
          "output_type": "execute_result",
          "data": {
            "text/plain": [
              "(8.375, 'Aprobado(a)')"
            ]
          },
          "metadata": {},
          "execution_count": 42
        }
      ]
    },
    {
      "cell_type": "code",
      "source": [
        "print(f'el estudiante obtuvo un puntaje de :{resultado} y su situacion es : {situacion} ')"
      ],
      "metadata": {
        "colab": {
          "base_uri": "https://localhost:8080/"
        },
        "id": "EJzFgPUlg8FZ",
        "outputId": "13493070-f4d6-4225-eaf2-1096500ed41e"
      },
      "execution_count": 46,
      "outputs": [
        {
          "output_type": "stream",
          "name": "stdout",
          "text": [
            "el estudiante obtuvo un puntaje de :8.375 y su situacion es : Aprobado(a) \n"
          ]
        }
      ]
    },
    {
      "cell_type": "code",
      "source": [
        "def boletin(lista):\n",
        "  resultado=sum(lista) / len(lista)\n",
        "  if resultado >= 7:\n",
        "    situacion = \"Aprobado(a)\"\n",
        "\n",
        "  else:\n",
        "    situacion = \"Reprobado(a)\"\n",
        "\n",
        "  return (resultado,situacion)"
      ],
      "metadata": {
        "id": "-n1wNd5cg8Ib"
      },
      "execution_count": null,
      "outputs": []
    },
    {
      "cell_type": "code",
      "source": [
        "notas2 = [8.5, 6, 6.0, 10.0]"
      ],
      "metadata": {
        "id": "WOkPy_W0g8LR"
      },
      "execution_count": 49,
      "outputs": []
    },
    {
      "cell_type": "code",
      "source": [
        "boletin(notas2)"
      ],
      "metadata": {
        "colab": {
          "base_uri": "https://localhost:8080/"
        },
        "id": "ZgalvZP8g8OU",
        "outputId": "fdfcf1d4-e487-4532-d369-90447b5114a4"
      },
      "execution_count": 50,
      "outputs": [
        {
          "output_type": "execute_result",
          "data": {
            "text/plain": [
              "(7.625, 'Aprobado(a)')"
            ]
          },
          "metadata": {},
          "execution_count": 50
        }
      ]
    },
    {
      "cell_type": "code",
      "source": [
        "lista = [16, 14, 63, 65, 17, 99, 70, 11, 20, 48, 79, 32, 17, 89, 12, 25, 66]\n",
        "\n",
        "# Leer el tamaño de la lista\n",
        "tam = len(lista)\n",
        "\n",
        "# Leer el valor máximo y mínimo\n",
        "mayor = max(lista)\n",
        "menor = min(lista)\n",
        "\n",
        "# Calcular la suma de los valores de la lista\n",
        "soma = sum(lista)\n",
        "\n",
        "# Mostrar un mensaje al final\n",
        "print(f\"La lista tiene {tam} números, donde el mayor es {mayor} y el menor es {menor}. La suma de los valores es {soma}\")"
      ],
      "metadata": {
        "id": "tLdjCulMMjnD",
        "colab": {
          "base_uri": "https://localhost:8080/"
        },
        "outputId": "8eff38c4-8a67-41bb-e04b-270e1920eac0"
      },
      "execution_count": 51,
      "outputs": [
        {
          "output_type": "stream",
          "name": "stdout",
          "text": [
            "La lista tiene 17 números, donde el mayor es 99 y el menor es 11. La suma de los valores es 743\n"
          ]
        }
      ]
    },
    {
      "cell_type": "code",
      "source": [
        "def tabla_multiplicar(numero):\n",
        "    print(f\"Tabla de multiplicar del {numero}:\")\n",
        "    for i in range(11):\n",
        "        print(f\"{numero} x {i} = {numero * i}\")\n",
        "\n",
        "# Uso de la función\n",
        "tabla_multiplicar(7)"
      ],
      "metadata": {
        "colab": {
          "base_uri": "https://localhost:8080/"
        },
        "id": "2ukPVT6vj7MK",
        "outputId": "fde35ecd-5719-46a1-911f-ba2f48c09ed4"
      },
      "execution_count": 52,
      "outputs": [
        {
          "output_type": "stream",
          "name": "stdout",
          "text": [
            "Tabla de multiplicar del 7:\n",
            "7 x 0 = 0\n",
            "7 x 1 = 7\n",
            "7 x 2 = 14\n",
            "7 x 3 = 21\n",
            "7 x 4 = 28\n",
            "7 x 5 = 35\n",
            "7 x 6 = 42\n",
            "7 x 7 = 49\n",
            "7 x 8 = 56\n",
            "7 x 9 = 63\n",
            "7 x 10 = 70\n"
          ]
        }
      ]
    },
    {
      "cell_type": "code",
      "source": [
        "def multiplos_de_tres(lista):\n",
        "    return [num for num in lista if num % 3 == 0]\n",
        "\n",
        "# Uso de la función\n",
        "lista_original = [97, 80, 94, 88, 80, 1, 16, 53, 62, 32, 24, 99]\n",
        "mult_3 = multiplos_de_tres(lista_original)\n",
        "print(mult_3)"
      ],
      "metadata": {
        "colab": {
          "base_uri": "https://localhost:8080/"
        },
        "id": "pG_u79Yij7Xq",
        "outputId": "1358435b-5301-4409-a803-3f7610581a5a"
      },
      "execution_count": 53,
      "outputs": [
        {
          "output_type": "stream",
          "name": "stdout",
          "text": [
            "[24, 99]\n"
          ]
        }
      ]
    },
    {
      "cell_type": "code",
      "source": [
        "numeros = [1, 2, 3, 4, 5, 6, 7, 8, 9, 10]\n",
        "cuadrados = list(map(lambda x: x**2, numeros))\n",
        "print(cuadrados)"
      ],
      "metadata": {
        "colab": {
          "base_uri": "https://localhost:8080/"
        },
        "id": "6zJWLKItj7cB",
        "outputId": "e48f2f6a-5eaa-4dd8-f105-f3919c1881ff"
      },
      "execution_count": 54,
      "outputs": [
        {
          "output_type": "stream",
          "name": "stdout",
          "text": [
            "[1, 4, 9, 16, 25, 36, 49, 64, 81, 100]\n"
          ]
        }
      ]
    },
    {
      "cell_type": "code",
      "source": [],
      "metadata": {
        "id": "Syuniavej7i9"
      },
      "execution_count": null,
      "outputs": []
    },
    {
      "cell_type": "code",
      "source": [],
      "metadata": {
        "id": "vXl88tWNj70k"
      },
      "execution_count": null,
      "outputs": []
    },
    {
      "cell_type": "code",
      "source": [],
      "metadata": {
        "id": "hE3ivqQGj74H"
      },
      "execution_count": null,
      "outputs": []
    },
    {
      "cell_type": "code",
      "source": [],
      "metadata": {
        "id": "XG4pNMBVj77Z"
      },
      "execution_count": null,
      "outputs": []
    },
    {
      "cell_type": "code",
      "source": [],
      "metadata": {
        "id": "rCyNDkipj7-p"
      },
      "execution_count": null,
      "outputs": []
    },
    {
      "cell_type": "code",
      "source": [],
      "metadata": {
        "id": "--GpnK0qj8Bu"
      },
      "execution_count": null,
      "outputs": []
    },
    {
      "cell_type": "code",
      "source": [],
      "metadata": {
        "id": "oBPdF2G7j8Ef"
      },
      "execution_count": null,
      "outputs": []
    },
    {
      "cell_type": "code",
      "source": [],
      "metadata": {
        "id": "xT9vkQsLj8HW"
      },
      "execution_count": null,
      "outputs": []
    },
    {
      "cell_type": "code",
      "source": [],
      "metadata": {
        "id": "GENHrdyQj8L2"
      },
      "execution_count": null,
      "outputs": []
    },
    {
      "cell_type": "markdown",
      "source": [
        "## 2.4 Funciones lambda\n",
        "\n",
        "También se conocen como funciones anónimas, son funciones que no necesitan ser definidas, o sea, no poseen un nombre, y describen en una única fila los comandos que deseamos aplicar.\n",
        "\n",
        "https://docs.python.org/es/3/reference/expressions.html?#lambda\n",
        "\n",
        "#### Formato estándar:\n",
        "\n",
        "```python\n",
        "lambda <variable>: <expresion>\n",
        "```"
      ],
      "metadata": {
        "id": "hwYYRpkZMft5"
      }
    },
    {
      "cell_type": "code",
      "source": [
        "nota_=float(input('digite una nota:'))\n",
        "\n",
        "def cualitativa(nota_):\n",
        "   return nota + 0.5\n",
        "\n"
      ],
      "metadata": {
        "id": "wcNxDJoPMmTJ",
        "colab": {
          "base_uri": "https://localhost:8080/"
        },
        "outputId": "d77c79ed-4d8e-4f09-eea2-4b80b4a5cd44"
      },
      "execution_count": 62,
      "outputs": [
        {
          "name": "stdout",
          "output_type": "stream",
          "text": [
            "digite una nota:5\n"
          ]
        }
      ]
    },
    {
      "cell_type": "code",
      "source": [
        "cualitativa(nota_)"
      ],
      "metadata": {
        "colab": {
          "base_uri": "https://localhost:8080/"
        },
        "id": "7IAa2vg5k6vR",
        "outputId": "3f32a235-cad4-4aa8-9d3e-49c769843dac"
      },
      "execution_count": 63,
      "outputs": [
        {
          "output_type": "execute_result",
          "data": {
            "text/plain": [
              "5.5"
            ]
          },
          "metadata": {},
          "execution_count": 63
        }
      ]
    },
    {
      "cell_type": "code",
      "source": [
        "nota_=float(input('digite una nota:'))\n",
        "\n",
        "def cualitativa(nota):\n",
        "   return nota + 0.5"
      ],
      "metadata": {
        "id": "rWp8jnhck6yQ"
      },
      "execution_count": null,
      "outputs": []
    },
    {
      "cell_type": "code",
      "source": [
        "nota_=float(input('digite una nota:'))\n",
        "\n",
        "cualitativa= lambda x: x +  0.5\n",
        "\n",
        "cualitativa(nota_)"
      ],
      "metadata": {
        "colab": {
          "base_uri": "https://localhost:8080/"
        },
        "id": "TyR1U-dok61H",
        "outputId": "52f78603-5c38-444a-a482-88b0773a3ed7"
      },
      "execution_count": 64,
      "outputs": [
        {
          "name": "stdout",
          "output_type": "stream",
          "text": [
            "digite una nota:5\n"
          ]
        },
        {
          "output_type": "execute_result",
          "data": {
            "text/plain": [
              "5.5"
            ]
          },
          "metadata": {},
          "execution_count": 64
        }
      ]
    },
    {
      "cell_type": "code",
      "source": [],
      "metadata": {
        "id": "S-baAoaQMmVy"
      },
      "execution_count": null,
      "outputs": []
    },
    {
      "cell_type": "markdown",
      "source": [
        "#### **Situación 4:**\n",
        "\n",
        "En esta nueva solicitud, necesitamos crear una calculadora simple para obtener el promedio ponderado de notas de una materia determinada. Vamos a pedir que el usuario introduzca 3 notas (N1, N2, N3) del estudiante y devuelva el promedio ponderado de este estudiante. Los pesos de las notas son de, respectivamente 3, 2 y 5.\n",
        "\n",
        "Necesitamos exhibir un pequeño texto para poder indicar el promedio del estudiante.\n",
        "**¿Vamos a resolver este desafío?**\n"
      ],
      "metadata": {
        "id": "AuRWyNXYgD_b"
      }
    },
    {
      "cell_type": "markdown",
      "source": [
        "**Resolviendo nuestro problema:**"
      ],
      "metadata": {
        "id": "vdKk3DRBmtUE"
      }
    },
    {
      "cell_type": "code",
      "source": [
        "nota_1=float(input('digite una nota:'))\n",
        "nota_2=float(input('digite una nota:'))\n",
        "nota_3=float(input('digite una nota:'))\n",
        "\n",
        "ponderado=lambda x,y,z :(x*3+y*2+z*5)/10\n",
        "\n",
        "notafinal=ponderado(nota_1,nota_2,nota_3)\n",
        "\n"
      ],
      "metadata": {
        "id": "6YxEn9aiMnYJ",
        "colab": {
          "base_uri": "https://localhost:8080/"
        },
        "outputId": "ef8c0e14-d659-46cf-b682-afa3648286c4"
      },
      "execution_count": 70,
      "outputs": [
        {
          "name": "stdout",
          "output_type": "stream",
          "text": [
            "digite una nota:7\n",
            "digite una nota:8\n",
            "digite una nota:9\n"
          ]
        }
      ]
    },
    {
      "cell_type": "code",
      "source": [
        "print(f'el promedio ponderado es {notafinal}')"
      ],
      "metadata": {
        "id": "Ptn9gQaPMnaz",
        "colab": {
          "base_uri": "https://localhost:8080/"
        },
        "outputId": "06c90af9-b60f-469b-c34b-5ef7a089f03f"
      },
      "execution_count": 71,
      "outputs": [
        {
          "output_type": "stream",
          "name": "stdout",
          "text": [
            "el promedio ponderado es 8.2\n"
          ]
        }
      ]
    },
    {
      "cell_type": "markdown",
      "source": [
        "#### **Situación 5:**\n",
        "\n",
        "Ahora, debemos crear una pequeña función que permita dar una nota cualitativa (puntaje extra) a las notas del trimestre de los estudiantes del grupo que ganó el concurso de programación realizado en la institución. Cada estudiante recibirá el cualitativo de 0.5 añadido al promedio.\n",
        "\n",
        "Los datos recibidos corresponden a una lista que contiene las notas de algunos estudiantes y una variable con el cualitativo recibido.\n",
        "\n",
        "**¿Vamos a resolver este desafío?**\n",
        "\n",
        "Para facilitar nuestra comprensión del proceso, vamos a aplicar las notas de 5 estudiantes; sin embargo, puedes probar otros casos para practicar."
      ],
      "metadata": {
        "id": "1qk0gLdfFcbf"
      }
    },
    {
      "cell_type": "code",
      "source": [
        "# Notas del estudiante\n",
        "notas = [6.0, 7.0, 9.0, 5.5, 8.0]\n",
        "cualitativo = 0.5"
      ],
      "metadata": {
        "id": "RdoaWhuVI_OB"
      },
      "execution_count": 72,
      "outputs": []
    },
    {
      "cell_type": "code",
      "source": [
        "notas_actualizadas=mapslambda x:x + 0.5"
      ],
      "metadata": {
        "id": "PzDfbv-kMq2t"
      },
      "execution_count": 73,
      "outputs": []
    },
    {
      "cell_type": "code",
      "source": [
        "notas_actualizadas(notas)"
      ],
      "metadata": {
        "id": "3YDQ39wFMq5u",
        "colab": {
          "base_uri": "https://localhost:8080/",
          "height": 193
        },
        "outputId": "eb368993-e85e-4dc3-cbac-8c8c8666ebdb"
      },
      "execution_count": 74,
      "outputs": [
        {
          "output_type": "error",
          "ename": "TypeError",
          "evalue": "can only concatenate list (not \"float\") to list",
          "traceback": [
            "\u001b[0;31m---------------------------------------------------------------------------\u001b[0m",
            "\u001b[0;31mTypeError\u001b[0m                                 Traceback (most recent call last)",
            "\u001b[0;32m<ipython-input-74-de6832024cbc>\u001b[0m in \u001b[0;36m<cell line: 0>\u001b[0;34m()\u001b[0m\n\u001b[0;32m----> 1\u001b[0;31m \u001b[0mnotas_actualizadas\u001b[0m\u001b[0;34m(\u001b[0m\u001b[0mnotas\u001b[0m\u001b[0;34m)\u001b[0m\u001b[0;34m\u001b[0m\u001b[0;34m\u001b[0m\u001b[0m\n\u001b[0m",
            "\u001b[0;32m<ipython-input-73-9e8ea3d10205>\u001b[0m in \u001b[0;36m<lambda>\u001b[0;34m(x)\u001b[0m\n\u001b[0;32m----> 1\u001b[0;31m \u001b[0mnotas_actualizadas\u001b[0m\u001b[0;34m=\u001b[0m\u001b[0;32mlambda\u001b[0m \u001b[0mx\u001b[0m\u001b[0;34m:\u001b[0m\u001b[0mx\u001b[0m \u001b[0;34m+\u001b[0m \u001b[0;36m0.5\u001b[0m\u001b[0;34m\u001b[0m\u001b[0;34m\u001b[0m\u001b[0m\n\u001b[0m",
            "\u001b[0;31mTypeError\u001b[0m: can only concatenate list (not \"float\") to list"
          ]
        }
      ]
    },
    {
      "cell_type": "markdown",
      "source": [
        "### Mapeando valores\n",
        "\n",
        "#### Formato estándar:\n",
        "\n",
        "```python\n",
        "map(<lambda function>, <iterador>)\n",
        "```"
      ],
      "metadata": {
        "id": "SOK4BC4mmKbG"
      }
    },
    {
      "cell_type": "code",
      "source": [
        "notas_actualizadas=map(lambda x:x + 0.5,notas)"
      ],
      "metadata": {
        "id": "ZbfpvfWJMsjv"
      },
      "execution_count": 75,
      "outputs": []
    },
    {
      "cell_type": "code",
      "source": [
        "notas_actualizadas"
      ],
      "metadata": {
        "id": "TA-zGLJfMseA",
        "colab": {
          "base_uri": "https://localhost:8080/"
        },
        "outputId": "cf324adf-18c3-411a-ed86-3224df6466f4"
      },
      "execution_count": 76,
      "outputs": [
        {
          "output_type": "execute_result",
          "data": {
            "text/plain": [
              "<map at 0x78e366c77d00>"
            ]
          },
          "metadata": {},
          "execution_count": 76
        }
      ]
    },
    {
      "cell_type": "code",
      "source": [
        "notas_actualizadas=list(notas_actualizadas  )"
      ],
      "metadata": {
        "id": "PrAppvR6MuKm"
      },
      "execution_count": 77,
      "outputs": []
    },
    {
      "cell_type": "code",
      "source": [
        "notas_actualizadas"
      ],
      "metadata": {
        "colab": {
          "base_uri": "https://localhost:8080/"
        },
        "id": "Sx8z55Rep6KL",
        "outputId": "eeea122a-0bf4-457c-b4ac-64dbaea85c56"
      },
      "execution_count": 78,
      "outputs": [
        {
          "output_type": "execute_result",
          "data": {
            "text/plain": [
              "[6.5, 7.5, 9.5, 6.0, 8.5]"
            ]
          },
          "metadata": {},
          "execution_count": 78
        }
      ]
    },
    {
      "cell_type": "code",
      "source": [
        "def analisis_notas(notas):\n",
        "    mayor = max(notas)\n",
        "    menor = min(notas)\n",
        "    media = sum(notas) / len(notas)\n",
        "    situacion = \"Aprobado\" if media >= 6 else \"Reprobado\"\n",
        "    return mayor, menor, media, situacion\n",
        "\n",
        "# Uso de la función\n",
        "notas_estudiante = [float(input(f\"Ingrese la nota {i + 1}: \")) for i in range(4)]\n",
        "resultado = analisis_notas(notas_estudiante)\n",
        "print(f\"El estudiante obtuvo una media de {resultado[2]:.2f}, con la mayor nota de {resultado[0]:.2f} puntos y la menor nota de {resultado[1]:.2f} puntos y fue {resultado[3]}\")"
      ],
      "metadata": {
        "colab": {
          "base_uri": "https://localhost:8080/"
        },
        "id": "a7Wb5m_Jp6NU",
        "outputId": "77d84349-4118-4709-a81f-f6e5be127b79"
      },
      "execution_count": 79,
      "outputs": [
        {
          "output_type": "stream",
          "name": "stdout",
          "text": [
            "Ingrese la nota 1: 7\n",
            "Ingrese la nota 2: 8\n",
            "Ingrese la nota 3: 9\n",
            "Ingrese la nota 4: 6\n",
            "El estudiante obtuvo una media de 7.50, con la mayor nota de 9.00 puntos y la menor nota de 6.00 puntos y fue Aprobado\n"
          ]
        }
      ]
    },
    {
      "cell_type": "code",
      "source": [
        "nombres = [\"juan\", \"MaRia\", \"JOSÉ\"]\n",
        "sobrenombres = [\"SILVA\", \"sosa\", \"Tavares\"]\n",
        "\n",
        "# Normalizar nombres y apellidos y crear una nueva lista con los nombres completos\n",
        "nombres_normalizados = map(lambda x: x.capitalize(), nombres)\n",
        "sobrenombres_normalizados = map(lambda x: x.capitalize(), sobrenombres)\n",
        "nombres_completos = list(map(lambda x, y: f\"Nome completo: {x} {y}\", nombres_normalizados, sobrenombres_normalizados))\n",
        "print(nombres_completos)"
      ],
      "metadata": {
        "colab": {
          "base_uri": "https://localhost:8080/"
        },
        "id": "ce6Iy9R8qQu2",
        "outputId": "a7776ffd-35c9-478a-eff3-515b8b1b10bc"
      },
      "execution_count": 80,
      "outputs": [
        {
          "output_type": "stream",
          "name": "stdout",
          "text": [
            "['Nome completo: Juan Silva', 'Nome completo: Maria Sosa', 'Nome completo: José Tavares']\n"
          ]
        }
      ]
    },
    {
      "cell_type": "code",
      "source": [
        "goles_marcados = [2, 1, 3, 1, 0]\n",
        "goles_sofridos = [1, 2, 2, 1, 3]\n",
        "\n",
        "def calcula_puntos(goles_marcados, goles_sofridos):\n",
        "  puntos = 0\n",
        "  for i in range(len(goles_marcados)):\n",
        "    if goles_marcados[i] > goles_sofridos[i]:\n",
        "      puntos += 3\n",
        "    elif goles_marcados[i] == goles_sofridos[i]:\n",
        "      puntos += 1\n",
        "  aprob = 100 * puntos / (len(goles_marcados) * 3)\n",
        "  return (puntos, aprob)\n",
        "\n",
        "puntos, aprob = calcula_puntos(goles_marcados, goles_sofridos)\n",
        "print(f\"La puntuación del equipo fue de {puntos} y su rendimiento fue de {round(aprob)}%\")"
      ],
      "metadata": {
        "colab": {
          "base_uri": "https://localhost:8080/"
        },
        "id": "GTv2xxDFqQxZ",
        "outputId": "345406a8-f1bf-473a-9292-a8ec80ef6086"
      },
      "execution_count": 81,
      "outputs": [
        {
          "output_type": "stream",
          "name": "stdout",
          "text": [
            "La puntuación del equipo fue de 7 y su rendimiento fue de 47%\n"
          ]
        }
      ]
    },
    {
      "cell_type": "code",
      "source": [
        "dias = int(input(\"¿Cuántas diarias? \"))\n",
        "ciudad = input(\"¿Cuál es la ciudad? [Salvador, Fortaleza, Natal o Aracaju]: \")\n",
        "distancias = [850, 800, 300, 550]\n",
        "paseo = [200, 400, 250, 300]\n",
        "km_l = 14\n",
        "gasolina = 5\n",
        "\n",
        "def gasto_hotel(dias):\n",
        "    return 150 * dias\n",
        "\n",
        "def gasto_gasolina(ciudad):\n",
        "    if ciudad == \"Salvador\":\n",
        "        return (2 * distancias[0] * gasolina) / km_l\n",
        "    elif ciudad == \"Fortaleza\":\n",
        "        return (2 * distancias[1] * gasolina) / km_l\n",
        "    elif ciudad == \"Natal\":\n",
        "        return (2 * distancias[2] * gasolina) / km_l\n",
        "    elif ciudad == \"Aracaju\":\n",
        "        return (2 * distancias[3] * gasolina) / km_l\n",
        "\n",
        "def gasto_paseo(ciudad, dias):\n",
        "    if ciudad==\"Salvador\":\n",
        "        return paseo[0] * dias\n",
        "    elif ciudad==\"Fortaleza\":\n",
        "        return paseo[1] * dias\n",
        "    elif ciudad==\"Natal\":\n",
        "        return paseo[2] * dias\n",
        "    elif ciudad==\"Aracaju\":\n",
        "        return paseo[3] * dias\n",
        "\n",
        "gastos = gasto_hotel(dias) + gasto_gasolina(ciudad) + gasto_paseo(ciudad, dias)\n",
        "print(f\"Con base en los gastos definidos, un viaje de {dias} días a {ciudad} desde Recife costaría {round(gastos, 2)} reales\")"
      ],
      "metadata": {
        "colab": {
          "base_uri": "https://localhost:8080/",
          "height": 228
        },
        "id": "t9OZLhH1qQ0L",
        "outputId": "5f5b90a1-e3ac-4515-e64d-b7d092885912"
      },
      "execution_count": 82,
      "outputs": [
        {
          "name": "stdout",
          "output_type": "stream",
          "text": [
            "¿Cuántas diarias? 5000\n",
            "¿Cuál es la ciudad? [Salvador, Fortaleza, Natal o Aracaju]: natal\n"
          ]
        },
        {
          "output_type": "error",
          "ename": "TypeError",
          "evalue": "unsupported operand type(s) for +: 'int' and 'NoneType'",
          "traceback": [
            "\u001b[0;31m---------------------------------------------------------------------------\u001b[0m",
            "\u001b[0;31mTypeError\u001b[0m                                 Traceback (most recent call last)",
            "\u001b[0;32m<ipython-input-82-29387e09f7f7>\u001b[0m in \u001b[0;36m<cell line: 0>\u001b[0;34m()\u001b[0m\n\u001b[1;32m     29\u001b[0m         \u001b[0;32mreturn\u001b[0m \u001b[0mpaseo\u001b[0m\u001b[0;34m[\u001b[0m\u001b[0;36m3\u001b[0m\u001b[0;34m]\u001b[0m \u001b[0;34m*\u001b[0m \u001b[0mdias\u001b[0m\u001b[0;34m\u001b[0m\u001b[0;34m\u001b[0m\u001b[0m\n\u001b[1;32m     30\u001b[0m \u001b[0;34m\u001b[0m\u001b[0m\n\u001b[0;32m---> 31\u001b[0;31m \u001b[0mgastos\u001b[0m \u001b[0;34m=\u001b[0m \u001b[0mgasto_hotel\u001b[0m\u001b[0;34m(\u001b[0m\u001b[0mdias\u001b[0m\u001b[0;34m)\u001b[0m \u001b[0;34m+\u001b[0m \u001b[0mgasto_gasolina\u001b[0m\u001b[0;34m(\u001b[0m\u001b[0mciudad\u001b[0m\u001b[0;34m)\u001b[0m \u001b[0;34m+\u001b[0m \u001b[0mgasto_paseo\u001b[0m\u001b[0;34m(\u001b[0m\u001b[0mciudad\u001b[0m\u001b[0;34m,\u001b[0m \u001b[0mdias\u001b[0m\u001b[0;34m)\u001b[0m\u001b[0;34m\u001b[0m\u001b[0;34m\u001b[0m\u001b[0m\n\u001b[0m\u001b[1;32m     32\u001b[0m \u001b[0mprint\u001b[0m\u001b[0;34m(\u001b[0m\u001b[0;34mf\"Con base en los gastos definidos, un viaje de {dias} días a {ciudad} desde Recife costaría {round(gastos, 2)} reales\"\u001b[0m\u001b[0;34m)\u001b[0m\u001b[0;34m\u001b[0m\u001b[0;34m\u001b[0m\u001b[0m\n",
            "\u001b[0;31mTypeError\u001b[0m: unsupported operand type(s) for +: 'int' and 'NoneType'"
          ]
        }
      ]
    },
    {
      "cell_type": "code",
      "source": [
        "# Solicitando una frase y separándola por espacios. Usando replace para cambiar\n",
        "# puntuaciones por espacios.\n",
        "frase = input(\"Escribe una frase: \")\n",
        "frase = frase.replace(',',' ').replace('.',' ').replace('!',' ').replace('?',' ').split()\n",
        "\n",
        "# Filtrando la frase en formato de lista, pasando a la lista tamaño\n",
        "# solo las palabras con 5 o más caracteres e imprimiéndola en pantalla\n",
        "tamano = list(filter(lambda x: len(x) >= 5, frase))\n",
        "print(tamano)"
      ],
      "metadata": {
        "colab": {
          "base_uri": "https://localhost:8080/"
        },
        "id": "w-0p-nyIqQ2p",
        "outputId": "87029d4e-2e25-4257-d9a9-4b7b9b9d8a9a"
      },
      "execution_count": 83,
      "outputs": [
        {
          "output_type": "stream",
          "name": "stdout",
          "text": [
            "Escribe una frase: pedro clavo un clavito cuantos ? , clavitos calvo pablito\n",
            "['pedro', 'clavo', 'clavito', 'cuantos', 'clavitos', 'calvo', 'pablito']\n"
          ]
        }
      ]
    },
    {
      "cell_type": "code",
      "source": [],
      "metadata": {
        "id": "sE9BNDiSqQ5e"
      },
      "execution_count": null,
      "outputs": []
    },
    {
      "cell_type": "code",
      "source": [],
      "metadata": {
        "id": "fdIwsv95qQ8R"
      },
      "execution_count": null,
      "outputs": []
    },
    {
      "cell_type": "markdown",
      "source": [
        "## <font color=green> 3. ESTRUCTURAS DE DATOS COMPUESTAS\n",
        "---"
      ],
      "metadata": {
        "id": "DoB6wf2JCYf7"
      }
    },
    {
      "cell_type": "markdown",
      "source": [
        "## 3.1 Estructuras anidadas\n",
        "\n",
        "Previamente, aprendimos a manipular las listas, tuplas y diccionarios para trabajar con una secuencia o colección de valores sean numéricos, categóricos, etc. En esta aula, vamos a profundizar en otra situación común para la persona científica de datos que es trabajar con estos tipos de estructuras anidadas, o sea, cuando, por ejemplo, tenemos listas dentro de una lista."
      ],
      "metadata": {
        "id": "3or6MbnZDW_b"
      }
    },
    {
      "cell_type": "markdown",
      "source": [
        "### **Lista de listas**\n",
        "\n",
        "#### Formato estándar:\n",
        "\n",
        "```python\n",
        "[[a1, a2,...,an], [b1, b2,...,bn], ..., [n1, n2,...,nn]]\n",
        "```"
      ],
      "metadata": {
        "id": "fddus1G9HqB3"
      }
    },
    {
      "cell_type": "markdown",
      "source": [
        "#### **Situación 6:**\n",
        "\n",
        "Recibimos la demanda de transformar una lista con el nombre y las notas de tres trimestres de algunos estudiantes en una lista simple, con los nombres separados de las notas, y una lista de listas con las tres notas de cada estudiante separadas entre sí. Los datos recibidos corresponden a una lista con los nombres y las respectivas notas de cada estudiante.\n",
        "\n",
        "**¿Vamos a resolver este desafío?**\n",
        "\n",
        "Para facilitar nuestra comprensión del proceso, vamos a trabajar con un grupo de 5 estudiantes; sin embargo, puedes probar otros casos para practicar.\n"
      ],
      "metadata": {
        "id": "32K5LA11tFpz"
      }
    },
    {
      "cell_type": "code",
      "source": [
        "notas_grupo = ['Juan', 8.0, 9.0, 10.0, 'Maria', 9.0, 7.0, 6.0, 'José', 3.4, 7.0, 7.0, 'Claudia', 5.5, 6.6, 8.0, 'Ana', 6.0, 10.0, 9.5]"
      ],
      "metadata": {
        "id": "jlEP-c2YthpB"
      },
      "execution_count": 84,
      "outputs": []
    },
    {
      "cell_type": "code",
      "source": [
        "nombres=[]\n",
        "notas=[]\n",
        "\n",
        "for i in range(len(notas_grupo)):\n",
        "  if i % 4 ==0:    # cada cuatro extrae valor en este caso nombre\n",
        "     nombres.append(notas_grupo[i])\n",
        "  else :\n",
        "     notas.append(notas_grupo[i])\n",
        "\n"
      ],
      "metadata": {
        "id": "azR_cX-ILghB"
      },
      "execution_count": 86,
      "outputs": []
    },
    {
      "cell_type": "code",
      "source": [
        "notas"
      ],
      "metadata": {
        "id": "GhfsJvs9LgjY",
        "colab": {
          "base_uri": "https://localhost:8080/"
        },
        "outputId": "a81b82af-4839-4cd6-8a9e-9a33dbd8d9ff"
      },
      "execution_count": 87,
      "outputs": [
        {
          "output_type": "execute_result",
          "data": {
            "text/plain": [
              "[8.0, 9.0, 10.0, 9.0, 7.0, 6.0, 3.4, 7.0, 7.0, 5.5, 6.6, 8.0, 6.0, 10.0, 9.5]"
            ]
          },
          "metadata": {},
          "execution_count": 87
        }
      ]
    },
    {
      "cell_type": "code",
      "source": [
        "nombres"
      ],
      "metadata": {
        "colab": {
          "base_uri": "https://localhost:8080/"
        },
        "id": "2wSpQc08urBs",
        "outputId": "b12e3c29-2dfa-4a91-807b-09e181f3abd9"
      },
      "execution_count": 88,
      "outputs": [
        {
          "output_type": "execute_result",
          "data": {
            "text/plain": [
              "['Juan', 'Maria', 'José', 'Claudia', 'Ana']"
            ]
          },
          "metadata": {},
          "execution_count": 88
        }
      ]
    },
    {
      "cell_type": "code",
      "source": [
        "#se deben separa las notas en listas de 3\n",
        "\n",
        "notas_separadas=[]\n",
        "for i in range(0,len(notas),3):\n",
        "  notas_separadas.append([notas[i],notas[i+1],notas[i+2]])\n",
        "\n",
        "\n",
        "\n",
        "\n"
      ],
      "metadata": {
        "id": "NS3RKgd2urEq"
      },
      "execution_count": 91,
      "outputs": []
    },
    {
      "cell_type": "code",
      "source": [
        "notas_separadas"
      ],
      "metadata": {
        "colab": {
          "base_uri": "https://localhost:8080/"
        },
        "id": "g2qC1phZurHb",
        "outputId": "a38e3036-0f32-47f9-818e-aab076148a0f"
      },
      "execution_count": 92,
      "outputs": [
        {
          "output_type": "execute_result",
          "data": {
            "text/plain": [
              "[[8.0, 9.0, 10.0],\n",
              " [9.0, 7.0, 6.0],\n",
              " [3.4, 7.0, 7.0],\n",
              " [5.5, 6.6, 8.0],\n",
              " [6.0, 10.0, 9.5]]"
            ]
          },
          "metadata": {},
          "execution_count": 92
        }
      ]
    },
    {
      "cell_type": "code",
      "source": [
        "# prompt: como pongo un texto de ayuda despues de un codigo\n",
        "\n",
        "# Aquí puedes añadir texto de ayuda después del código.\n",
        "# Por ejemplo:\n",
        "#\n",
        "# Este código realiza las siguientes acciones:\n",
        "# 1. Importa las bibliotecas necesarias.\n",
        "# 2. Instala matplotlib si no está instalado.\n",
        "# 3. Muestra la versión de matplotlib instalada.\n",
        "# 4. ... (continuar con la descripción de cada parte del código)\n",
        "#\n",
        "# Para ejecutar este código, puedes hacer click en el botón \"play\" en la esquina superior izquierda de cada bloque de código.\n",
        "# También puedes modificar el código y volver a ejecutarlo.\n",
        "#\n",
        "# Para más información sobre las funciones utilizadas en este código, consulta la documentación oficial de Python: https://docs.python.org/3/\n",
        "#\n",
        "# Puedes agregar más comentarios explicativos en cualquier parte del código para mejorar su legibilidad.\n"
      ],
      "metadata": {
        "id": "tB8FA20gLiog"
      },
      "execution_count": null,
      "outputs": []
    },
    {
      "cell_type": "code",
      "source": [],
      "metadata": {
        "id": "SCi8Jl82Liqo"
      },
      "execution_count": null,
      "outputs": []
    },
    {
      "cell_type": "markdown",
      "source": [
        "### **Lista de tuplas**\n",
        "\n",
        "#### Formato estándar:\n",
        "\n",
        "```python\n",
        "[(a1, a2,...,an), (b1, b2,...,bn), ..., (n1, n2,...,nn)]\n",
        "```"
      ],
      "metadata": {
        "id": "SW0sVg68sK_z"
      }
    },
    {
      "cell_type": "markdown",
      "source": [
        "#### **Situación 7:**\n",
        "\n",
        "Necesitamos generar una lista de tuplas con los nombres de los estudiantes y el código ID de cada uno de ellos para la plataforma de análisis de datos. La creación del código consiste en concatenar la primera letra del nombre del estudiante con un número aleatorio de 0 a 999. Los datos recibidos corresponden a una lista con los nombres de cada estudiante.\n",
        "\n",
        "**¿Vamos a resolver este desafío?**\n",
        "\n",
        "Para facilitar nuestra comprensión del proceso, vamos a trabajar con un grupo de 5 estudiantes; sin embargo, puedes probar otros casos para practicar.\n"
      ],
      "metadata": {
        "id": "OId6jAZz5x2m"
      }
    },
    {
      "cell_type": "code",
      "source": [
        "nombres"
      ],
      "metadata": {
        "id": "YA1zJ0G6LkTy",
        "colab": {
          "base_uri": "https://localhost:8080/"
        },
        "outputId": "10b5d194-552a-41f5-8153-5fa99b5c052d"
      },
      "execution_count": 125,
      "outputs": [
        {
          "output_type": "execute_result",
          "data": {
            "text/plain": [
              "['Juan', 'Maria', 'José', 'Claudia', 'Ana']"
            ]
          },
          "metadata": {},
          "execution_count": 125
        }
      ]
    },
    {
      "cell_type": "code",
      "source": [
        "nombres[0][0]"
      ],
      "metadata": {
        "colab": {
          "base_uri": "https://localhost:8080/",
          "height": 35
        },
        "id": "2QelmtB5x_gQ",
        "outputId": "e8c298af-8532-4a02-d0e1-27fbb4fab916"
      },
      "execution_count": 139,
      "outputs": [
        {
          "output_type": "execute_result",
          "data": {
            "text/plain": [
              "'J'"
            ],
            "application/vnd.google.colaboratory.intrinsic+json": {
              "type": "string"
            }
          },
          "metadata": {},
          "execution_count": 139
        }
      ]
    },
    {
      "cell_type": "code",
      "source": [
        "from random import randint\n",
        "\n",
        "def genera_numero():\n",
        "  return randint(0,999)\n"
      ],
      "metadata": {
        "id": "fBDRpuKowsso"
      },
      "execution_count": 128,
      "outputs": []
    },
    {
      "cell_type": "code",
      "source": [
        "genera_numero()\n"
      ],
      "metadata": {
        "colab": {
          "base_uri": "https://localhost:8080/"
        },
        "id": "efsj7T4pwsvk",
        "outputId": "59c1de1b-c46f-4bc6-fbc0-89c866c9485a"
      },
      "execution_count": 138,
      "outputs": [
        {
          "output_type": "execute_result",
          "data": {
            "text/plain": [
              "641"
            ]
          },
          "metadata": {},
          "execution_count": 138
        }
      ]
    },
    {
      "cell_type": "code",
      "source": [
        "codigo_estudiante=[]\n",
        "\n",
        "for i in range(len(nombres)):\n",
        "  codigo_estudiante.append((nombres[i],nombres[i][0]+str(genera_numero())))"
      ],
      "metadata": {
        "id": "Z64csYvawszf"
      },
      "execution_count": 140,
      "outputs": []
    },
    {
      "cell_type": "code",
      "source": [
        "codigo_estudiante"
      ],
      "metadata": {
        "colab": {
          "base_uri": "https://localhost:8080/"
        },
        "id": "HhAA4ZXBws2p",
        "outputId": "dbf6b726-b677-4c9a-8bf1-0945cb095e82"
      },
      "execution_count": 141,
      "outputs": [
        {
          "output_type": "execute_result",
          "data": {
            "text/plain": [
              "[('Juan', 'J618'),\n",
              " ('Maria', 'M282'),\n",
              " ('José', 'J342'),\n",
              " ('Claudia', 'C955'),\n",
              " ('Ana', 'A13')]"
            ]
          },
          "metadata": {},
          "execution_count": 141
        }
      ]
    },
    {
      "cell_type": "code",
      "source": [
        "registro = (\"Julia\", 23, \"CDMX\", \"EM\", \"Python para DS 1\")"
      ],
      "metadata": {
        "id": "yBzPwhGiLkWa"
      },
      "execution_count": 142,
      "outputs": []
    },
    {
      "cell_type": "code",
      "source": [
        "print(registro[0])  # imprime Julia\n",
        "print(registro[-2])  # imprime Python para DS 1"
      ],
      "metadata": {
        "id": "9qgGAjSyLndK",
        "colab": {
          "base_uri": "https://localhost:8080/"
        },
        "outputId": "8b07f88c-4d37-4224-b685-7197d2a39f37"
      },
      "execution_count": 147,
      "outputs": [
        {
          "output_type": "stream",
          "name": "stdout",
          "text": [
            "Julia\n",
            "EM\n"
          ]
        }
      ]
    },
    {
      "cell_type": "code",
      "source": [
        "nombre, edad, ciudad, estado, curso = registro"
      ],
      "metadata": {
        "id": "i8ZzI1aoy3LV"
      },
      "execution_count": 148,
      "outputs": []
    },
    {
      "cell_type": "code",
      "source": [
        "print(f'La estudiante {nombre} tiene {edad} años y vive en {ciudad}-{estado}. Ella está matriculada en el curso de {curso}.')"
      ],
      "metadata": {
        "id": "BEBxOiAky3OL",
        "outputId": "be388464-8831-4e7d-8e3b-7027e75ae76d",
        "colab": {
          "base_uri": "https://localhost:8080/"
        }
      },
      "execution_count": 149,
      "outputs": [
        {
          "output_type": "stream",
          "name": "stdout",
          "text": [
            "La estudiante Julia tiene 23 años y vive en CDMX-EM. Ella está matriculada en el curso de Python para DS 1.\n"
          ]
        }
      ]
    },
    {
      "cell_type": "code",
      "source": [],
      "metadata": {
        "id": "MGu-c7F9y3RL"
      },
      "execution_count": null,
      "outputs": []
    },
    {
      "cell_type": "code",
      "source": [],
      "metadata": {
        "id": "nda0G41xy3XO"
      },
      "execution_count": null,
      "outputs": []
    },
    {
      "cell_type": "code",
      "source": [],
      "metadata": {
        "id": "jVRxtOyeLngM"
      },
      "execution_count": null,
      "outputs": []
    },
    {
      "cell_type": "markdown",
      "source": [
        "## 3.2 List comprehension\n",
        "\n",
        "Es una forma simple y concisa de crear una lista. Podemos aplicar condicionales y lazos para crear diversos tipos de listas a partir de patrones que deseamos para nuestra estructura de datos.\n",
        "\n",
        "https://docs.python.org/es/3/tutorial/datastructures.html?#list-comprehensions\n",
        "\n",
        "#### Formato estándar:\n",
        "\n",
        "```python\n",
        "[expresion for item in lista]\n",
        "```"
      ],
      "metadata": {
        "id": "srHAov19QCdb"
      }
    },
    {
      "cell_type": "markdown",
      "source": [
        "#### **Situación 8:**\n",
        "\n",
        "Recibimos la demanda de crear una lista con el promedio de los estudiantes de la lista de listas que creamos en la Situación 6, redondeando el promedio a una casilla decimal. Recordando que cada lista de la lista de listas contiene las tres notas de cada estudiante.\n",
        "\n",
        "**¿Vamos a resolver este desafío?**\n",
        "\n",
        "**Tip:** Utiliza el formato:\n",
        "```python\n",
        "[expresion for item in lista]\n",
        "```"
      ],
      "metadata": {
        "id": "l4HW0gDqecgM"
      }
    },
    {
      "cell_type": "code",
      "source": [
        "def promedio(lista: list=[0]) -> float:\n",
        "  ''' Función para calcular el promedio de notas en una lista\n",
        "\n",
        "  lista: list, default [0]\n",
        "    Lista con las notas para calcular el promedio\n",
        "  return = calculo: float\n",
        "    Promedio calculado\n",
        "  '''\n",
        "\n",
        "  calculo = sum(lista) / len(lista)\n",
        "\n",
        "  return calculo"
      ],
      "metadata": {
        "id": "J_atQRQdlpNe"
      },
      "execution_count": 159,
      "outputs": []
    },
    {
      "cell_type": "code",
      "source": [
        "notas=[[8.0, 9.0, 10.0], [9.0, 7.0, 6.0], [3.4, 7.0, 7.0], [5.5, 6.6, 8.0], [6.0, 10.0, 9.5]]"
      ],
      "metadata": {
        "id": "h7LeBrgnLAG6"
      },
      "execution_count": 153,
      "outputs": []
    },
    {
      "cell_type": "code",
      "source": [
        "promedios=[round(promedio(nota),1) for nota in notas]\n",
        "\n",
        "promedios"
      ],
      "metadata": {
        "id": "3j8_H7e8LAJZ",
        "colab": {
          "base_uri": "https://localhost:8080/"
        },
        "outputId": "492e2a21-00b8-4390-e4a8-57d453602da5"
      },
      "execution_count": 161,
      "outputs": [
        {
          "output_type": "execute_result",
          "data": {
            "text/plain": [
              "[9.0, 7.3, 5.8, 6.7, 8.5]"
            ]
          },
          "metadata": {},
          "execution_count": 161
        }
      ]
    },
    {
      "cell_type": "markdown",
      "source": [
        "#### **Situación 9:**\n",
        "\n",
        "Ahora, necesitamos utilizar los promedios calculados en el ejemplo anterior, y agruparlos con el nombre de los respectivos estudiantes. Esto será necesario para generar una lista que seleccione a aquellos estudiantes que posean un promedio final mayor o igual a 8 para concursar por una beca de estudios para el próximo año lectivo. Los datos recibidos corresponden a una lista de tuplas con los nombres y los códigos de los estudiantes junto a la lista de promedios calculados previamente.\n",
        "\n",
        "**Nota: El número de código será diferente cada vez que se ejecute la celda que los genera, por lo tanto, es completamente normal que estos códigos sean diferentes.**\n",
        "\n",
        "**¿Vamos a resolver este desafío?**\n",
        "\n",
        "Para facilitar nuestra comprensión del proceso vamos a trabajar con un grupo de 5 estudiantes.\n",
        "\n",
        "**Tip:** Utiliza el formato:\n",
        "\n",
        "```python\n",
        "[expresion for item in lista if condicion]\n",
        "```"
      ],
      "metadata": {
        "id": "ApLjXlAdhJKd"
      }
    },
    {
      "cell_type": "code",
      "source": [
        "nombres= [('Juan', 'J618'), ('Maria', 'M282'), ('José', 'J342'), ('Claudia', 'C955'), ('Ana', 'A13')]\n",
        "promedios=[9.0, 7.3, 5.8, 6.7, 8.5]\n",
        "nombres = [nombre[0] for nombre in nombres]\n",
        "nombres\n",
        "\n",
        ""
      ],
      "metadata": {
        "id": "QK-ubmmrLC7I",
        "colab": {
          "base_uri": "https://localhost:8080/"
        },
        "outputId": "26a62d43-8656-4f8f-ffc0-1b1ebaec825e"
      },
      "execution_count": 162,
      "outputs": [
        {
          "output_type": "execute_result",
          "data": {
            "text/plain": [
              "['Juan', 'Maria', 'José', 'Claudia', 'Ana']"
            ]
          },
          "metadata": {},
          "execution_count": 162
        }
      ]
    },
    {
      "cell_type": "code",
      "source": [
        "estudiantes=list(zip(nombres,promedios))\n",
        "estudiantes"
      ],
      "metadata": {
        "id": "df1Q8GGELC9b",
        "colab": {
          "base_uri": "https://localhost:8080/"
        },
        "outputId": "b9846580-e16c-4bd8-9a19-da6e428733a6"
      },
      "execution_count": 165,
      "outputs": [
        {
          "output_type": "execute_result",
          "data": {
            "text/plain": [
              "[('Juan', 9.0), ('Maria', 7.3), ('José', 5.8), ('Claudia', 6.7), ('Ana', 8.5)]"
            ]
          },
          "metadata": {},
          "execution_count": 165
        }
      ]
    },
    {
      "cell_type": "markdown",
      "source": [
        "<font color=green>**Tip:**</font> Para lograr parear los promedios y\n",
        "los nombres fácilmente, podemos acudir a otra  built-in function: `zip()`\n",
        "\n",
        "Esta recibe uno o más iterables (lista, string, dict, etc.) y los retorna como un iterador de tuplas donde cada elemento de los iterables es pareado."
      ],
      "metadata": {
        "id": "U6KAABs7Dfpe"
      }
    },
    {
      "cell_type": "code",
      "source": [
        "estudiantes=list(zip(nombres,promedios))\n",
        "estudiantes"
      ],
      "metadata": {
        "id": "841v92WvLEol"
      },
      "execution_count": null,
      "outputs": []
    },
    {
      "cell_type": "code",
      "source": [
        "candidatos=[estudiante[0] for estudiante in estudiantes if estudiante[1]>=8]\n",
        "candidatos"
      ],
      "metadata": {
        "id": "U8b4G_2oLErp",
        "colab": {
          "base_uri": "https://localhost:8080/"
        },
        "outputId": "d7142741-b66b-4ea6-dfe1-ce10fbccc96d"
      },
      "execution_count": 167,
      "outputs": [
        {
          "output_type": "execute_result",
          "data": {
            "text/plain": [
              "['Juan', 'Ana']"
            ]
          },
          "metadata": {},
          "execution_count": 167
        }
      ]
    },
    {
      "cell_type": "code",
      "source": [],
      "metadata": {
        "id": "OPeUEtOH3fXV"
      },
      "execution_count": null,
      "outputs": []
    },
    {
      "cell_type": "code",
      "source": [],
      "metadata": {
        "id": "skCIJyB03fbH"
      },
      "execution_count": null,
      "outputs": []
    },
    {
      "cell_type": "markdown",
      "source": [
        "#### **Situación 10:**\n",
        "\n",
        "Recibimos dos demandas sobre este proyecto con las notas de los estudiantes:\n",
        "- Crear una lista de la situación de los estudiantes considerando los siguientes casos: Si su promedio es mayor o igual a 7, recibirá el valor \"Aprobado\" y en caso contrario recibirá el valor \"Reprobado\".\n",
        "- Generar una lista de listas con:\n",
        "  - Lista de tuplas con el nombre de los estudiantes y sus códigos\n",
        "  - Lista de listas con las notas de cada estudiante\n",
        "  - Lista con los promedios de cada estudiante\n",
        "  - Lista de la situación de los estudiantes de acuerdo con los promedios\n",
        "\n",
        "Los datos que utilizaremos son los mismos que generamos en las situaciones anteriores (`nombres`, `notas`, `promedios`).\n",
        "\n",
        "**¿Vamos a resolver este desafío?**\n",
        "\n",
        "Para avanzar en el proceso, vamos a dejar escritas las estructuras de datos que ya produjimos.\n",
        "\n",
        "**Tip:** Para la lista de las situaciones utiliza el formato:\n",
        "```python\n",
        "[resultado_if if condicion else resultado_else for item in lista]\n",
        "```"
      ],
      "metadata": {
        "id": "9yzRDIB0fkeF"
      }
    },
    {
      "cell_type": "code",
      "source": [],
      "metadata": {
        "id": "YGQIaCzkLGqd"
      },
      "execution_count": null,
      "outputs": []
    },
    {
      "cell_type": "code",
      "source": [],
      "metadata": {
        "id": "OAAQHwE1LGs2"
      },
      "execution_count": null,
      "outputs": []
    },
    {
      "cell_type": "markdown",
      "source": [
        "**Tip:** Para generar la lista de listas del enunciado podemos utilizar el siguiente formato:\n",
        "```python\n",
        "[expresion for item in lista de listas]\n",
        "```"
      ],
      "metadata": {
        "id": "0XsAi49IF9Ta"
      }
    },
    {
      "cell_type": "code",
      "source": [],
      "metadata": {
        "id": "1Dj6R1vTLIbI"
      },
      "execution_count": null,
      "outputs": []
    },
    {
      "cell_type": "code",
      "source": [],
      "metadata": {
        "id": "cTLEQQ2eLIqc"
      },
      "execution_count": null,
      "outputs": []
    },
    {
      "cell_type": "markdown",
      "source": [
        "<font color=green>**Tip:**</font> Podemos acudir a la forma más simple de generación de lista de listas con el uso directo de los corchetes sin la necesidad de utilizar las expresiones y el lazo `for` que se emplea en la comprensión de listas."
      ],
      "metadata": {
        "id": "4hkHEZGbGH7X"
      }
    },
    {
      "cell_type": "code",
      "source": [],
      "metadata": {
        "id": "1tEtWzSoLKKg"
      },
      "execution_count": null,
      "outputs": []
    },
    {
      "cell_type": "code",
      "source": [],
      "metadata": {
        "id": "lRk02Bm5LMB3"
      },
      "execution_count": null,
      "outputs": []
    },
    {
      "cell_type": "markdown",
      "source": [
        "## 3.3 Dict comprehension\n",
        "\n",
        "Es una forma simple y concisa de crear o modificar un diccionario. Podemos aplicar condicionales y lazos para crear diversos tipos de diccionarios a partir de los patrones que buscamos para nuestra estructura de datos y con el soporte de iterables como listas o sets.\n",
        "\n",
        "https://peps.python.org/pep-0274/\n",
        "\n",
        "#### Formato estándar:\n",
        "\n",
        "```python\n",
        "{llave: valor for item in lista}\n",
        "```"
      ],
      "metadata": {
        "id": "NmohhDl-QRpx"
      }
    },
    {
      "cell_type": "markdown",
      "source": [
        "#### **Situación 11:**\n",
        "\n",
        "Ahora, nuestra demanda consiste en generar un diccionario a partir de la lista de listas que creamos en la Situación 10 para entregar a la persona responsable por construir las tablas para el análisis de los datos.\n",
        "- Las llaves de nuestro diccionario serán las columnas identificando el tipo de dato\n",
        "- Los valores serán las listas con los datos correspondientes a aquella llave.\n",
        "\n",
        "**¿Vamos a resolver este desafío?**\n",
        "\n",
        "Para facilitar nuestra comprensión del proceso vamos a trabajar con un grupo de 5 estudiantes.\n",
        "\n",
        "**Tip:** Utiliza el formato\n",
        "\n",
        "```python\n",
        "{llave: valor for item in lista}\n",
        "```"
      ],
      "metadata": {
        "id": "kGt8hQXOKeIt"
      }
    },
    {
      "cell_type": "code",
      "source": [],
      "metadata": {
        "id": "GuTwYw8NLNST"
      },
      "execution_count": null,
      "outputs": []
    },
    {
      "cell_type": "code",
      "source": [],
      "metadata": {
        "id": "Ka1JPCuvLP4x"
      },
      "execution_count": null,
      "outputs": []
    },
    {
      "cell_type": "code",
      "source": [],
      "metadata": {
        "id": "4GhlzfLbLP8L"
      },
      "execution_count": null,
      "outputs": []
    },
    {
      "cell_type": "markdown",
      "source": [
        "## <font color=green> 4. LIDIANDO CON EXCEPCIONES\n",
        "---"
      ],
      "metadata": {
        "id": "RxKC5WVoCYp3"
      }
    },
    {
      "cell_type": "markdown",
      "source": [
        "Hemos podido evidenciar hasta aquí la existencia de algunos errores y excepciones en la ejecución de algún comando. Como científico/a de datos o programador, necesitarás estar atento a estas situaciones para evitar bugs o problemas en tus códigos y análisis que puedan afectar la experiencia tanto del usuario como la eficiencia de su análisis.\n",
        "\n",
        "Existen básicamente dos formas distintas de errores: Los **errores de sintáxis** y las **excepciones**.\n",
        "\n",
        "Las excepciones son errores detectados durante la ejecución e interrumpen el flujo del programa cerrándolo en caso de que no sean tratadas.  \n",
        "\n",
        "Vamos a aprender a identificar y tratar algunas de las excepciones aquí, pero es siempre importante consultar la documentación para investigar y verificar cuáles se ajustan a sus proyectos.\n",
        "\n",
        "**Documentación sobre errores y excepciones:** https://docs.python.org/es/3/tutorial/errors.html"
      ],
      "metadata": {
        "id": "MzOZ_0M3CU1x"
      }
    },
    {
      "cell_type": "markdown",
      "source": [
        "## 4.1 Tratando las Excepciones\n",
        "\n",
        "El tratamiento de las excepciones contribuye a establecer un flujo alternativo para la ejecución del código evitando la interrupción de los procesos inesperadamente.\n",
        "\n",
        "Existe una serie de excepciones, y a partir del comportamiento que queremos, y de los errores que queremos tratar, es posible construir un camino para el usuario, o también, proveer más detalles sobre aquella excepción.\n",
        "\n",
        "- Jerarquía de las excepciones (https://docs.python.org/es/3/library/exceptions.html#exception-hierarchy)"
      ],
      "metadata": {
        "id": "x3E66krBST7K"
      }
    },
    {
      "cell_type": "markdown",
      "source": [
        "### Try ... Except\n",
        "\n",
        "```python\n",
        "try:\n",
        "  # código que será ejecutado. En caso de que surja una excepción, para inmediatamente\n",
        "except <nombre_de_la_excepcion as e>:\n",
        "  # Si surje una excepción en el try, ejecuta este código, si no, salta esta etapa\n",
        "```"
      ],
      "metadata": {
        "id": "h9lj8Wfk__cl"
      }
    },
    {
      "cell_type": "markdown",
      "source": [
        "#### **Situación 12:**\n",
        "\n",
        "Creaste un código que lee un diccionario con las notas de los estudiantes y querías retornar la lista de notas de un estudiante.\n",
        "\n",
        "En caso que el/la estudiante no esté matriculado(a) en el grupo debemos tratar la excepción para presentar el mensaje \"Estudiante no matriculado(a) en el grupo\".\n",
        "\n",
        "Vamos a trabajar en este ejemplo con la excepción **Key Error** que interrumpirá el processo de este trecho de código.\n",
        "\n",
        "**¿Vamos a probar este primer tratamiento?**\n",
        "\n"
      ],
      "metadata": {
        "id": "miwzhPNdD8Ty"
      }
    },
    {
      "cell_type": "code",
      "source": [
        "notas = {'Juan': [8.0, 9.0, 10.0], 'Maria': [9.0, 7.0, 6.0], 'José': [3.4, 7.0, 8.0], 'Claudia': [5.5, 6.6, 8.0],\n",
        "         'Ana': [6.0, 10.0, 9.5], 'Jorge': [5.5, 7.5, 9.0], 'Julia': [6.0, 8.0, 7.0], 'Pedro': [3.0, 4.0, 6.0]}"
      ],
      "metadata": {
        "id": "UvVbXY0XVm-f"
      },
      "execution_count": null,
      "outputs": []
    },
    {
      "cell_type": "code",
      "source": [],
      "metadata": {
        "id": "rFBq02dbJtkF"
      },
      "execution_count": null,
      "outputs": []
    },
    {
      "cell_type": "code",
      "source": [],
      "metadata": {
        "id": "IZwxTL1EJvRl"
      },
      "execution_count": null,
      "outputs": []
    },
    {
      "cell_type": "markdown",
      "source": [
        "### Agregando la cláusula Else\n",
        "\n",
        "```python\n",
        "try:\n",
        "  # código que será ejecutado. En caso de que surja una excepción, para inmediatamente\n",
        "except:\n",
        "  # Si surje una excepción en el try, ejecuta este código, si no, salta esta etapa\n",
        "else:\n",
        "  # Si no surjen excepciones, ejecuta esta parte del código\n",
        "```"
      ],
      "metadata": {
        "id": "hKhKzgQoBHLb"
      }
    },
    {
      "cell_type": "markdown",
      "source": [
        "#### **Situación 13:**\n",
        "\n",
        "Creaste un código que lee un diccionario con las notas de los estudiantes y querías retornar la lista de notas de un estudiante.\n",
        "\n",
        "En caso de que el/la estudiante no esté matriculado(a) en la clase, debe aparecer el siguiente mensaje: \"Estudiante no matriculado(a) en el grupo\" y, si no surje la excepción, debemos exhibir la lista con las notas del(la) estudiante.\n",
        "\n",
        "Vamos a trabajar en este ejemplo con la excepción **Key Error** que interrumpirá el proceso de este trecho de código.\n",
        "\n",
        "**¿Vamos a probar este tratamiento?**\n"
      ],
      "metadata": {
        "id": "USN3SA2tMjL0"
      }
    },
    {
      "cell_type": "code",
      "source": [],
      "metadata": {
        "id": "Qr_4-D3UJxcE"
      },
      "execution_count": null,
      "outputs": []
    },
    {
      "cell_type": "code",
      "source": [],
      "metadata": {
        "id": "uy2xPGXoJzXS"
      },
      "execution_count": null,
      "outputs": []
    },
    {
      "cell_type": "markdown",
      "source": [
        "### Añadiendo la cláusula finally\n",
        "\n",
        "```python\n",
        "try:\n",
        "  # código que será ejecutado. En caso de que surja una excepción, para inmediatamente\n",
        "except:\n",
        "  # Si surje una excepción en el try, ejecuta este código, si no, salta esta etapa\n",
        "else:\n",
        "  # Si no surjen excepciones, ejecuta esta parte del código\n",
        "finally:\n",
        "  # Ejecuta este trecho (con o sin excepción)\n",
        "```"
      ],
      "metadata": {
        "id": "Dw_efTlbBhll"
      }
    },
    {
      "cell_type": "markdown",
      "source": [
        "#### **Situación 14:**\n",
        "\n",
        "Creaste un código que lee un diccionario con las notas de los estudiantes y querías retornar la lista de notas de un estudiante.\n",
        "\n",
        "En caso de que el/la estudiante no esté matriculado(a) en la clase, debe aparecer el siguiente mensaje: \"Estudiante no matriculado(a) en el grupo\" y, si no surje la excepción, debemos exhibir la lista con las notas del(la) estudiante. Un texto avisando que \"La consulta ha concluído.\" debe ser mostrado independientemente de si surgió o no alguna excepción.\n",
        "\n",
        "\n",
        "Vamos a trabajar en este ejemplo con la excepción **Key Error** que interrumpirá el proceso de este trecho del código.\n",
        "\n",
        "**¿Vamos a probar este tratamiento?**"
      ],
      "metadata": {
        "id": "jGtFVx5GdnsS"
      }
    },
    {
      "cell_type": "code",
      "source": [],
      "metadata": {
        "id": "PwdLYP_zJ04s"
      },
      "execution_count": null,
      "outputs": []
    },
    {
      "cell_type": "code",
      "source": [],
      "metadata": {
        "id": "pv0BaQ95J1BA"
      },
      "execution_count": null,
      "outputs": []
    },
    {
      "cell_type": "markdown",
      "source": [
        "## 4.2 Raise\n",
        "\n",
        "Otra forma de trabajar con las excepciones en tu código, es generando tus propias excepciones para determinados comportamientos que deseas en tu código.\n",
        "\n",
        "Para ello, utilizamos la palabra clave `raise` junto al tipo de excepción que se desea mostrar y el mensaje que será exhibido.   "
      ],
      "metadata": {
        "id": "HdjllLBpST_2"
      }
    },
    {
      "cell_type": "markdown",
      "source": [
        "```python\n",
        "raise NombreDelError(\"Mensaje deseado.\")\n",
        "```"
      ],
      "metadata": {
        "id": "_nIOnDQufv6Z"
      }
    },
    {
      "cell_type": "markdown",
      "source": [
        "#### **Situação 15:**\n",
        "\n",
        "Creaste una función para calcular el promedio de un estudiante en una determinada materia pasando en una lista las notas de este estudiante.\n",
        "\n",
        "Pretendes tratar 2 situaciones:\n",
        "\n",
        "- Si la lista posee un valor no numérico el cálculo de promedio no será ejecutado y un mensaje de \"No fue posible calcular el promedio del(la) estudiante. Solo se admiten valores numéricos!\" será exhibido.\n",
        "\n",
        "- En caso que la lista tenga más de 4 notas, surgirá una excepción del tipo **ValueError** informando que \"La lista no puede poseer más de 4 notas.\"\n",
        "\n",
        "Un texto avisando que \"La consulta ha concluído.\" debe ser mostrado independientemente de si surgió o no alguna excepción.\n",
        "\n",
        "**¿Vamos a resolver este desafío?**"
      ],
      "metadata": {
        "id": "xapeB2ivgB7R"
      }
    },
    {
      "cell_type": "code",
      "source": [
        "def promedio(lista: list=[0]) -> float:\n",
        "  ''' Función para calcular el promedio de notas en una lista\n",
        "\n",
        "  lista: list, default [0]\n",
        "    Lista con las notas para calcular el promedio\n",
        "  return = calculo: float\n",
        "    Promedio calculado\n",
        "  '''\n",
        "\n",
        "  calculo = sum(lista) / len(lista)\n",
        "\n",
        "  return calculo"
      ],
      "metadata": {
        "id": "kKeFuHUfhSfa"
      },
      "execution_count": null,
      "outputs": []
    },
    {
      "cell_type": "code",
      "source": [],
      "metadata": {
        "id": "_ghW6hb9KBpU"
      },
      "execution_count": null,
      "outputs": []
    },
    {
      "cell_type": "code",
      "source": [],
      "metadata": {
        "id": "X2To8kJdKGFk"
      },
      "execution_count": null,
      "outputs": []
    },
    {
      "cell_type": "code",
      "source": [],
      "metadata": {
        "id": "nrCsWqX6KGIA"
      },
      "execution_count": null,
      "outputs": []
    }
  ]
}